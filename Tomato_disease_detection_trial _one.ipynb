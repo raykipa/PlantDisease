{
  "nbformat": 4,
  "nbformat_minor": 0,
  "metadata": {
    "colab": {
      "name": "Tomato_disease_detection.ipynb",
      "provenance": [],
      "include_colab_link": true
    },
    "kernelspec": {
      "name": "python3",
      "display_name": "Python 3"
    },
    "accelerator": "GPU"
  },
  "cells": [
    {
      "cell_type": "markdown",
      "metadata": {
        "id": "view-in-github",
        "colab_type": "text"
      },
      "source": [
        "<a href=\"https://colab.research.google.com/github/raykipa/PlantDisease/blob/master/Tomato_disease_detection_trial%20_one.ipynb\" target=\"_parent\"><img src=\"https://colab.research.google.com/assets/colab-badge.svg\" alt=\"Open In Colab\"/></a>"
      ]
    },
    {
      "cell_type": "markdown",
      "metadata": {
        "id": "oqEREwiW60G-",
        "colab_type": "text"
      },
      "source": [
        ""
      ]
    },
    {
      "cell_type": "code",
      "metadata": {
        "id": "GhrwqXO3JBdR",
        "colab_type": "code",
        "colab": {}
      },
      "source": [
        "train_on_gpu = torch.cuda.is_available()"
      ],
      "execution_count": 0,
      "outputs": []
    },
    {
      "cell_type": "code",
      "metadata": {
        "id": "yyUzZeduJEWt",
        "colab_type": "code",
        "outputId": "832fac3f-b2ad-4aee-8712-9df0633c2163",
        "colab": {
          "base_uri": "https://localhost:8080/",
          "height": 51
        }
      },
      "source": [
        "if not train_on_gpu:\n",
        "    print('CUDA is not available.  Training on CPU ...')\n",
        "else:\n",
        "    print('CUDA is available!  Training on GPU ...')\n",
        "device = torch.device(\"cuda:0\" if torch.cuda.is_available() else \"cpu\")\n",
        "print(device)"
      ],
      "execution_count": 0,
      "outputs": [
        {
          "output_type": "stream",
          "text": [
            "CUDA is available!  Training on GPU ...\n",
            "cuda:0\n"
          ],
          "name": "stdout"
        }
      ]
    },
    {
      "cell_type": "code",
      "metadata": {
        "id": "6qVwJ4_vJIKw",
        "colab_type": "code",
        "outputId": "e7108eab-0880-437d-eb2e-293b0ba41a6c",
        "colab": {
          "base_uri": "https://localhost:8080/",
          "height": 34
        }
      },
      "source": [
        "from zipfile import ZipFile\n",
        "file_name = \"/content/Thesis.zip\"\n",
        "with ZipFile(file_name,'r') as zip:\n",
        "  zip.extractall()\n",
        "  print('Done')"
      ],
      "execution_count": 1,
      "outputs": [
        {
          "output_type": "stream",
          "text": [
            "Done\n"
          ],
          "name": "stdout"
        }
      ]
    },
    {
      "cell_type": "code",
      "metadata": {
        "id": "LgRWsUz7JPWQ",
        "colab_type": "code",
        "colab": {}
      },
      "source": [
        "import numpy as np\n",
        "import matplotlib.pyplot as plt\n",
        "import os\n",
        "import cv2"
      ],
      "execution_count": 0,
      "outputs": []
    },
    {
      "cell_type": "code",
      "metadata": {
        "id": "tnMRSw4g7s_u",
        "colab_type": "code",
        "colab": {}
      },
      "source": [
        "DATADIR=\"/content/Thesis\"\n",
        "#CATEGORIES= [\"Nitrogen deficient\", \"Potato_EB\",\"Potato_H\",\"Potato_LB\", \"Tomato_TS\", \"Tomato_MV\", \"Tomato_YL\", \"Tomato_BS\", \"Tomato_EB\", \"Tomato_H\", \"Tomato_LB\", \"Tomato_M\", \"Tomato_SL\", \"Tomato_SP\"]\n",
        "CATEGORIES= [\"ND\",\"TB\",\"TH\",\"TLM\"]"
      ],
      "execution_count": 0,
      "outputs": []
    },
    {
      "cell_type": "code",
      "metadata": {
        "id": "otp9JAE_99ap",
        "colab_type": "code",
        "outputId": "4dcd2d12-23eb-4d96-ebe0-8628d5fc255b",
        "colab": {
          "base_uri": "https://localhost:8080/",
          "height": 269
        }
      },
      "source": [
        "for category in CATEGORIES:\n",
        "  path=os.path.join(DATADIR, category)\n",
        "  for img in os.listdir(path):\n",
        "    img_array=cv2.imread(os.path.join(path,img),cv2.IMREAD_GRAYSCALE)\n",
        "    plt.imshow(img_array, cmap= \"Greys\")\n",
        "    \n",
        "    plt.show()\n",
        "    break\n",
        "  break"
      ],
      "execution_count": 4,
      "outputs": [
        {
          "output_type": "display_data",
          "data": {
            "image/png": "[encoded data removed]",
            "text/plain": [
              "<Figure size 432x288 with 1 Axes>"
            ]
          },
          "metadata": {
            "tags": []
          }
        }
      ]
    },
    {
      "cell_type": "code",
      "metadata": {
        "id": "U3dTjxt9NSgq",
        "colab_type": "code",
        "outputId": "4dedc08b-e58b-43e2-eaa9-a3d435577752",
        "colab": {
          "base_uri": "https://localhost:8080/",
          "height": 136
        }
      },
      "source": [
        "print(img_array)"
      ],
      "execution_count": 5,
      "outputs": [
        {
          "output_type": "stream",
          "text": [
            "[[123 126 127 ...  73  75  76]\n",
            " [121 124 128 ...  75  75  74]\n",
            " [121 125 129 ...  77  74  71]\n",
            " ...\n",
            " [177 177 177 ... 162 162 162]\n",
            " [178 178 178 ... 163 162 161]\n",
            " [178 178 178 ... 161 160 159]]\n"
          ],
          "name": "stdout"
        }
      ]
    },
    {
      "cell_type": "code",
      "metadata": {
        "id": "nn6D7EPSOFt-",
        "colab_type": "code",
        "outputId": "a395f400-3dcc-4268-ca89-60b489850b7f",
        "colab": {
          "base_uri": "https://localhost:8080/",
          "height": 34
        }
      },
      "source": [
        "print(img_array.shape)"
      ],
      "execution_count": 6,
      "outputs": [
        {
          "output_type": "stream",
          "text": [
            "(256, 256)\n"
          ],
          "name": "stdout"
        }
      ]
    },
    {
      "cell_type": "code",
      "metadata": {
        "id": "NeSHVLXVOINN",
        "colab_type": "code",
        "colab": {}
      },
      "source": [
        "IMG_SIZE=30\n",
        "new_array=cv2.resize(img_array,(IMG_SIZE, IMG_SIZE))"
      ],
      "execution_count": 0,
      "outputs": []
    },
    {
      "cell_type": "code",
      "metadata": {
        "id": "og882oUgBrIK",
        "colab_type": "code",
        "colab": {}
      },
      "source": [
        "training_data=[]\n",
        "def create_training_data():\n",
        "  for category in CATEGORIES:\n",
        "    path=os.path.join(DATADIR, category)\n",
        "    class_num= CATEGORIES.index(category)\n",
        "  for img in os.listdir(path):\n",
        "    try:\n",
        "      img_array=cv2.imread(os.path.join(path,img),cv2.IMREAD_GRAYSCALE)\n",
        "      new_array=cv2.resize(img_array,(IMG_SIZE, IMG_SIZE))\n",
        "      training_data.append([new_array,class_num])\n",
        "    except Exception as e:\n",
        "      pass\n",
        "create_training_data()"
      ],
      "execution_count": 0,
      "outputs": []
    },
    {
      "cell_type": "code",
      "metadata": {
        "id": "MLGFPmP3ABHM",
        "colab_type": "code",
        "outputId": "4b5c5cdc-6021-412a-c638-b2b885885826",
        "colab": {
          "base_uri": "https://localhost:8080/",
          "height": 34
        }
      },
      "source": [
        "print(len(training_data))"
      ],
      "execution_count": 9,
      "outputs": [
        {
          "output_type": "stream",
          "text": [
            "9\n"
          ],
          "name": "stdout"
        }
      ]
    },
    {
      "cell_type": "code",
      "metadata": {
        "id": "y6Stsvc3R7wM",
        "colab_type": "code",
        "colab": {}
      },
      "source": [
        "import random\n",
        "random.shuffle(training_data)"
      ],
      "execution_count": 0,
      "outputs": []
    },
    {
      "cell_type": "code",
      "metadata": {
        "id": "97-NKO9aQhog",
        "colab_type": "code",
        "outputId": "9f84a36d-5282-4d5e-a9b9-321072f479c6",
        "colab": {
          "base_uri": "https://localhost:8080/",
          "height": 170
        }
      },
      "source": [
        "for sample in training_data[:10]:\n",
        "  print(sample[1])"
      ],
      "execution_count": 14,
      "outputs": [
        {
          "output_type": "stream",
          "text": [
            "3\n",
            "3\n",
            "3\n",
            "3\n",
            "3\n",
            "3\n",
            "3\n",
            "3\n",
            "3\n"
          ],
          "name": "stdout"
        }
      ]
    },
    {
      "cell_type": "code",
      "metadata": {
        "id": "2NIrmayqQpwz",
        "colab_type": "code",
        "colab": {}
      },
      "source": [
        "X = []\n",
        "y= []"
      ],
      "execution_count": 0,
      "outputs": []
    },
    {
      "cell_type": "code",
      "metadata": {
        "id": "SwK0YDOypzQn",
        "colab_type": "code",
        "colab": {}
      },
      "source": [
        "for features, label in training_data:\n",
        "  X.append(features)\n",
        "  y.append(label)\n",
        "X = np.array(X).reshape(-1, IMG_SIZE, IMG_SIZE, 1)"
      ],
      "execution_count": 0,
      "outputs": []
    },
    {
      "cell_type": "code",
      "metadata": {
        "id": "5wafJKpHpzN6",
        "colab_type": "code",
        "colab": {}
      },
      "source": [
        "import pickle\n",
        "pickle_out = open(\"X.pickle\", \"wb\")\n",
        "pickle.dump(X, pickle_out)\n",
        "pickle_out.close()\n",
        "\n",
        "pickle_out= open(\"y.pickle\",\"wb\")\n",
        "pickle.dump(y, pickle_out)\n",
        "pickle_out.close()"
      ],
      "execution_count": 0,
      "outputs": []
    },
    {
      "cell_type": "code",
      "metadata": {
        "id": "UCbw1G9Cr2Gn",
        "colab_type": "code",
        "colab": {}
      },
      "source": [
        "pickle_in = open(\"X.pickle\",\"rb\")\n",
        "X = pickle.load(pickle_in)"
      ],
      "execution_count": 0,
      "outputs": []
    },
    {
      "cell_type": "code",
      "metadata": {
        "id": "30tpsbVKpzLA",
        "colab_type": "code",
        "colab": {}
      },
      "source": [
        ""
      ],
      "execution_count": 0,
      "outputs": []
    },
    {
      "cell_type": "code",
      "metadata": {
        "id": "slyAA_O0pzIR",
        "colab_type": "code",
        "colab": {
          "base_uri": "https://localhost:8080/",
          "height": 80
        },
        "outputId": "438b4a35-3b9e-4850-91a8-f391311fa46c"
      },
      "source": [
        "import tensorflow as tf"
      ],
      "execution_count": 22,
      "outputs": [
        {
          "output_type": "display_data",
          "data": {
            "text/html": [
              "<p style=\"color: red;\">\n",
              "The default version of TensorFlow in Colab will soon switch to TensorFlow 2.x.<br>\n",
              "We recommend you <a href=\"https://www.tensorflow.org/guide/migrate\" target=\"_blank\">upgrade</a> now \n",
              "or ensure your notebook will continue to use TensorFlow 1.x via the <code>%tensorflow_version 1.x</code> magic:\n",
              "<a href=\"https://colab.research.google.com/notebooks/tensorflow_version.ipynb\" target=\"_blank\">more info</a>.</p>\n"
            ],
            "text/plain": [
              "<IPython.core.display.HTML object>"
            ]
          },
          "metadata": {
            "tags": []
          }
        }
      ]
    },
    {
      "cell_type": "code",
      "metadata": {
        "id": "waz2DBaIpzFN",
        "colab_type": "code",
        "colab": {}
      },
      "source": [
        "\n"
      ],
      "execution_count": 0,
      "outputs": []
    },
    {
      "cell_type": "code",
      "metadata": {
        "id": "0JQpOuAXpy9z",
        "colab_type": "code",
        "colab": {}
      },
      "source": [
        ""
      ],
      "execution_count": 0,
      "outputs": []
    },
    {
      "cell_type": "code",
      "metadata": {
        "id": "ud7vNRfTpypY",
        "colab_type": "code",
        "colab": {}
      },
      "source": [
        ""
      ],
      "execution_count": 0,
      "outputs": []
    }
  ]
}