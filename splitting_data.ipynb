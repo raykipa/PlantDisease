{
  "nbformat": 4,
  "nbformat_minor": 0,
  "metadata": {
    "colab": {
      "name": "splitting_data.ipynb",
      "provenance": [],
      "authorship_tag": "ABX9TyPXek5c4iUfzZhj4vdUqawl",
      "include_colab_link": true
    },
    "kernelspec": {
      "name": "python3",
      "display_name": "Python 3"
    },
    "accelerator": "GPU"
  },
  "cells": [
    {
      "cell_type": "markdown",
      "metadata": {
        "id": "view-in-github",
        "colab_type": "text"
      },
      "source": [
        "<a href=\"https://colab.research.google.com/github/raykipa/PlantDisease/blob/master/splitting_data.ipynb\" target=\"_parent\"><img src=\"https://colab.research.google.com/assets/colab-badge.svg\" alt=\"Open In Colab\"/></a>"
      ]
    },
    {
      "cell_type": "code",
      "metadata": {
        "id": "FOEDJnhfT7XA",
        "colab_type": "code",
        "outputId": "dc5f7b6f-9009-49fe-f1e9-9d24fa0c3018",
        "colab": {
          "base_uri": "https://localhost:8080/",
          "height": 34
        }
      },
      "source": [
        "#upload my data\n",
        "from zipfile import ZipFile\n",
        "file_name = \"/content/Thesis.zip\"\n",
        "with ZipFile(file_name,'r') as zip:\n",
        "  zip.extractall()\n",
        "  print('Done')"
      ],
      "execution_count": 0,
      "outputs": [
        {
          "output_type": "stream",
          "text": [
            "Done\n"
          ],
          "name": "stdout"
        }
      ]
    },
    {
      "cell_type": "code",
      "metadata": {
        "id": "jSLotv--BhMx",
        "colab_type": "code",
        "colab": {}
      },
      "source": [
        "from google.colab import drive"
      ],
      "execution_count": 0,
      "outputs": []
    },
    {
      "cell_type": "code",
      "metadata": {
        "id": "aGyZm1V-Bm87",
        "colab_type": "code",
        "outputId": "417fb2a7-96c3-4b23-f705-516237199e95",
        "colab": {
          "base_uri": "https://localhost:8080/",
          "height": 122
        }
      },
      "source": [
        "drive.mount('/content/drive')"
      ],
      "execution_count": 2,
      "outputs": [
        {
          "output_type": "stream",
          "text": [
            "Go to this URL in a browser: https://accounts.google.com/o/oauth2/auth?client_id=947318989803-6bn6qk8qdgf4n4g3pfee6491hc0brc4i.apps.googleusercontent.com&redirect_uri=urn%3aietf%3awg%3aoauth%3a2.0%3aoob&response_type=code&scope=email%20https%3a%2f%2fwww.googleapis.com%2fauth%2fdocs.test%20https%3a%2f%2fwww.googleapis.com%2fauth%2fdrive%20https%3a%2f%2fwww.googleapis.com%2fauth%2fdrive.photos.readonly%20https%3a%2f%2fwww.googleapis.com%2fauth%2fpeopleapi.readonly\n",
            "\n",
            "Enter your authorization code:\n",
            "··········\n",
            "Mounted at /content/drive\n"
          ],
          "name": "stdout"
        }
      ]
    },
    {
      "cell_type": "code",
      "metadata": {
        "id": "B_0rPNs5Bm2Z",
        "colab_type": "code",
        "colab": {}
      },
      "source": [
        ""
      ],
      "execution_count": 0,
      "outputs": []
    },
    {
      "cell_type": "code",
      "metadata": {
        "id": "KJqUO9s_Bmto",
        "colab_type": "code",
        "colab": {}
      },
      "source": [
        ""
      ],
      "execution_count": 0,
      "outputs": []
    },
    {
      "cell_type": "code",
      "metadata": {
        "id": "Jwy7T8QvWB1i",
        "colab_type": "code",
        "colab": {}
      },
      "source": [
        "import os, shutil"
      ],
      "execution_count": 0,
      "outputs": []
    },
    {
      "cell_type": "code",
      "metadata": {
        "id": "vfjxLO6RhgCk",
        "colab_type": "code",
        "colab": {}
      },
      "source": [
        "original_dataset_dir='/content/drive/My Drive/data/tomato/train'"
      ],
      "execution_count": 0,
      "outputs": []
    },
    {
      "cell_type": "code",
      "metadata": {
        "id": "VbTId1T-hfkI",
        "colab_type": "code",
        "colab": {}
      },
      "source": [
        "base_dir = '/content/drive/My Drive/data/tomato/tomato_small'"
      ],
      "execution_count": 0,
      "outputs": []
    },
    {
      "cell_type": "code",
      "metadata": {
        "id": "V90YhPaBDCJU",
        "colab_type": "code",
        "colab": {}
      },
      "source": [
        "train_dir = os.path.join(base_dir, 'train')\n",
        "#os.mkdir(train_dir)"
      ],
      "execution_count": 0,
      "outputs": []
    },
    {
      "cell_type": "code",
      "metadata": {
        "id": "8lPMMzIYDCBn",
        "colab_type": "code",
        "colab": {}
      },
      "source": [
        "validation_dir = os.path.join(base_dir, 'validation')\n",
        "#os.mkdir(validation_dir)"
      ],
      "execution_count": 0,
      "outputs": []
    },
    {
      "cell_type": "code",
      "metadata": {
        "id": "buumgFASDB3B",
        "colab_type": "code",
        "colab": {}
      },
      "source": [
        "test_dir = os.path.join(base_dir, 'test')\n",
        "#os.mkdir(test_dir)"
      ],
      "execution_count": 0,
      "outputs": []
    },
    {
      "cell_type": "code",
      "metadata": {
        "id": "ay3Rb_eWEAZr",
        "colab_type": "code",
        "colab": {}
      },
      "source": [
        "train_Nitrogen_dir = os.path.join(train_dir, 'Nitrogen')\n",
        "os.mkdir(train_Nitrogen_dir)"
      ],
      "execution_count": 0,
      "outputs": []
    },
    {
      "cell_type": "code",
      "metadata": {
        "id": "U-TBI8lcEAWd",
        "colab_type": "code",
        "colab": {}
      },
      "source": [
        "validation_Nitrogen_dir = os.path.join(validation_dir, 'Nitrogen')\n",
        "os.mkdir(validation_Nitrogen_dir)\n"
      ],
      "execution_count": 0,
      "outputs": []
    },
    {
      "cell_type": "code",
      "metadata": {
        "id": "5qKJU6JGEASx",
        "colab_type": "code",
        "colab": {}
      },
      "source": [
        "test_Nitrogen_dir = os.path.join(test_dir, 'Nitrogen')\n",
        "os.mkdir(test_Nitrogen_dir)\n"
      ],
      "execution_count": 0,
      "outputs": []
    },
    {
      "cell_type": "code",
      "metadata": {
        "id": "1GrAIiNDJlRg",
        "colab_type": "code",
        "colab": {}
      },
      "source": [
        "test_BacterialSpot_dir = os.path.join(test_dir, 'BacterialSpot')\n",
        "os.mkdir(test_BacterialSpot_dir)"
      ],
      "execution_count": 0,
      "outputs": []
    },
    {
      "cell_type": "code",
      "metadata": {
        "id": "JRwckbNFEu4G",
        "colab_type": "code",
        "colab": {}
      },
      "source": [
        "train_BacterialSpot_dir = os.path.join(train_dir, 'BacterialSpot')\n",
        "os.mkdir(train_BacterialSpot_dir)"
      ],
      "execution_count": 0,
      "outputs": []
    },
    {
      "cell_type": "code",
      "metadata": {
        "id": "hOrNci_sEu1-",
        "colab_type": "code",
        "colab": {}
      },
      "source": [
        "validation_BacterialSpot_dir = os.path.join(validation_dir, 'BacterialSpot')\n",
        "os.mkdir(validation_BacterialSpot_dir)"
      ],
      "execution_count": 0,
      "outputs": []
    },
    {
      "cell_type": "code",
      "metadata": {
        "id": "8W7bYT49Euys",
        "colab_type": "code",
        "colab": {}
      },
      "source": [
        "test_EarlyBlight_dir = os.path.join(test_dir, 'EarlyBlight')\n",
        "os.mkdir(test_EarlyBlight_dir)"
      ],
      "execution_count": 0,
      "outputs": []
    },
    {
      "cell_type": "code",
      "metadata": {
        "id": "BmmGbchBEupy",
        "colab_type": "code",
        "colab": {}
      },
      "source": [
        "train_EarlyBlight_dir = os.path.join(train_dir, 'EarlyBlight')\n",
        "os.mkdir(train_EarlyBlight_dir)"
      ],
      "execution_count": 0,
      "outputs": []
    },
    {
      "cell_type": "code",
      "metadata": {
        "id": "LjgUUGjUFWj1",
        "colab_type": "code",
        "colab": {}
      },
      "source": [
        "validation_EarlyBlight_dir = os.path.join(validation_dir, 'EarlyBlight')\n",
        "os.mkdir(validation_EarlyBlight_dir)"
      ],
      "execution_count": 0,
      "outputs": []
    },
    {
      "cell_type": "code",
      "metadata": {
        "id": "WIz4_NTyFWfL",
        "colab_type": "code",
        "colab": {}
      },
      "source": [
        "test_Healthy_dir = os.path.join(test_dir, 'Healthy')\n",
        "os.mkdir(test_Healthy_dir)"
      ],
      "execution_count": 0,
      "outputs": []
    },
    {
      "cell_type": "code",
      "metadata": {
        "id": "H7Y6bjCVFeGN",
        "colab_type": "code",
        "colab": {}
      },
      "source": [
        "train_Healthy_dir = os.path.join(train_dir, 'Healthy')\n",
        "os.mkdir(train_Healthy_dir)"
      ],
      "execution_count": 0,
      "outputs": []
    },
    {
      "cell_type": "code",
      "metadata": {
        "id": "vOtqvA2MFeC0",
        "colab_type": "code",
        "colab": {}
      },
      "source": [
        "validation_Healthy_dir = os.path.join(validation_dir, 'Healthy')\n",
        "os.mkdir(validation_Healthy_dir)"
      ],
      "execution_count": 0,
      "outputs": []
    },
    {
      "cell_type": "code",
      "metadata": {
        "id": "LtppgeRJGEHy",
        "colab_type": "code",
        "colab": {}
      },
      "source": [
        "test_LateBlight_dir = os.path.join(test_dir, 'LateBlight')\n",
        "os.mkdir(test_LateBlight_dir)"
      ],
      "execution_count": 0,
      "outputs": []
    },
    {
      "cell_type": "code",
      "metadata": {
        "id": "1LDkIQjCGED2",
        "colab_type": "code",
        "colab": {}
      },
      "source": [
        "train_LateBlight_dir = os.path.join(train_dir, 'LateBlight')\n",
        "os.mkdir(train_LateBlight_dir)"
      ],
      "execution_count": 0,
      "outputs": []
    },
    {
      "cell_type": "code",
      "metadata": {
        "id": "5J_nTqayGD_2",
        "colab_type": "code",
        "colab": {}
      },
      "source": [
        "validation_LateBlight_dir = os.path.join(validation_dir, 'LateBlight')\n",
        "os.mkdir(validation_LateBlight_dir)"
      ],
      "execution_count": 0,
      "outputs": []
    },
    {
      "cell_type": "code",
      "metadata": {
        "id": "oRlFK_frFd-6",
        "colab_type": "code",
        "colab": {}
      },
      "source": [
        "train_LeafMold_dir = os.path.join(train_dir, 'LeafMold')\n",
        "os.mkdir(train_LeafMold_dir)"
      ],
      "execution_count": 0,
      "outputs": []
    },
    {
      "cell_type": "code",
      "metadata": {
        "id": "UZJj8rqFG5QH",
        "colab_type": "code",
        "colab": {}
      },
      "source": [
        "test_LeafMold_dir = os.path.join(test_dir, 'LeafMold')\n",
        "os.mkdir(test_LeafMold_dir)"
      ],
      "execution_count": 0,
      "outputs": []
    },
    {
      "cell_type": "code",
      "metadata": {
        "id": "_XLU45XbG5Hz",
        "colab_type": "code",
        "colab": {}
      },
      "source": [
        "validation_LeafMold_dir = os.path.join(validation_dir, 'LeafMold')\n",
        "os.mkdir(validation_LeafMold_dir)"
      ],
      "execution_count": 0,
      "outputs": []
    },
    {
      "cell_type": "code",
      "metadata": {
        "id": "yjuBY-KYG5EQ",
        "colab_type": "code",
        "colab": {}
      },
      "source": [
        "train_MosaicVirus_dir = os.path.join(train_dir, 'MosaicVirus')\n",
        "os.mkdir(train_MosaicVirus_dir)"
      ],
      "execution_count": 0,
      "outputs": []
    },
    {
      "cell_type": "code",
      "metadata": {
        "id": "TYWVOVO_HVo-",
        "colab_type": "code",
        "colab": {}
      },
      "source": [
        "test_MosaicVirus_dir = os.path.join(test_dir, 'MosaicVirus')\n",
        "os.mkdir(test_MosaicVirus_dir)"
      ],
      "execution_count": 0,
      "outputs": []
    },
    {
      "cell_type": "code",
      "metadata": {
        "id": "I28PIZxEHVl4",
        "colab_type": "code",
        "colab": {}
      },
      "source": [
        "validation_MosaicVirus_dir = os.path.join(validation_dir, 'MosaicVirus')\n",
        "os.mkdir(validation_MosaicVirus_dir)"
      ],
      "execution_count": 0,
      "outputs": []
    },
    {
      "cell_type": "code",
      "metadata": {
        "id": "OZed43fgHVil",
        "colab_type": "code",
        "colab": {}
      },
      "source": [
        "train_SeptoriaLeafSpot_dir = os.path.join(train_dir, 'SeptoriaLeafSpot')\n",
        "os.mkdir(train_SeptoriaLeafSpot_dir)"
      ],
      "execution_count": 0,
      "outputs": []
    },
    {
      "cell_type": "code",
      "metadata": {
        "id": "DP3rYzDzHVfD",
        "colab_type": "code",
        "colab": {}
      },
      "source": [
        "test_SeptoriaLeafSpot_dir = os.path.join(test_dir, 'SeptoriaLeafSpot')\n",
        "os.mkdir(test_SeptoriaLeafSpot_dir)"
      ],
      "execution_count": 0,
      "outputs": []
    },
    {
      "cell_type": "code",
      "metadata": {
        "id": "VoKhML9JHVWh",
        "colab_type": "code",
        "colab": {}
      },
      "source": [
        "validation_SeptoriaLeafSpot_dir = os.path.join(validation_dir, 'SeptoriaLeafSpot')\n",
        "os.mkdir(validation_SeptoriaLeafSpot_dir)"
      ],
      "execution_count": 0,
      "outputs": []
    },
    {
      "cell_type": "code",
      "metadata": {
        "id": "KnuObPvMIYa6",
        "colab_type": "code",
        "colab": {}
      },
      "source": [
        "train_TargetSpot_dir = os.path.join(train_dir, 'TargetSpot')\n",
        "os.mkdir(train_TargetSpot_dir)"
      ],
      "execution_count": 0,
      "outputs": []
    },
    {
      "cell_type": "code",
      "metadata": {
        "id": "vWE8sS1hIYWh",
        "colab_type": "code",
        "colab": {}
      },
      "source": [
        "test_TargetSpot_dir = os.path.join(test_dir, 'TargetSpot')\n",
        "os.mkdir(test_TargetSpot_dir)"
      ],
      "execution_count": 0,
      "outputs": []
    },
    {
      "cell_type": "code",
      "metadata": {
        "id": "Wuuw_rEuIYT4",
        "colab_type": "code",
        "colab": {}
      },
      "source": [
        "validation_TargetSpot_dir = os.path.join(validation_dir, 'TargetSpot')\n",
        "os.mkdir(validation_TargetSpot_dir)"
      ],
      "execution_count": 0,
      "outputs": []
    },
    {
      "cell_type": "code",
      "metadata": {
        "id": "ErbI3fjLIYQ3",
        "colab_type": "code",
        "colab": {}
      },
      "source": [
        "train_YellowLeaf_dir = os.path.join(train_dir, 'YellowLeaf')\n",
        "os.mkdir(train_YellowLeaf_dir)"
      ],
      "execution_count": 0,
      "outputs": []
    },
    {
      "cell_type": "code",
      "metadata": {
        "id": "ACt5lXnnI07e",
        "colab_type": "code",
        "colab": {}
      },
      "source": [
        "test_YellowLeaf_dir = os.path.join(test_dir, 'YellowLeaf')\n",
        "os.mkdir(test_YellowLeaf_dir)"
      ],
      "execution_count": 0,
      "outputs": []
    },
    {
      "cell_type": "code",
      "metadata": {
        "id": "BRs8XnAxI0zl",
        "colab_type": "code",
        "colab": {}
      },
      "source": [
        "validation_YellowLeaf_dir = os.path.join(validation_dir, 'YellowLeaf')\n",
        "os.mkdir(validation_YellowLeaf_dir)"
      ],
      "execution_count": 0,
      "outputs": []
    },
    {
      "cell_type": "code",
      "metadata": {
        "id": "4bj6tMzeI0xn",
        "colab_type": "code",
        "outputId": "09e42c88-19ee-4930-cfe6-08c897cdf0cd",
        "colab": {
          "base_uri": "https://localhost:8080/",
          "height": 80
        }
      },
      "source": [
        "from os import listdir\n",
        "from keras.preprocessing.image import load_img\n",
        "from keras.preprocessing.image import img_to_array\n",
        "from keras.applications.vgg16 import preprocess_input"
      ],
      "execution_count": 0,
      "outputs": [
        {
          "output_type": "stream",
          "text": [
            "Using TensorFlow backend.\n"
          ],
          "name": "stderr"
        },
        {
          "output_type": "display_data",
          "data": {
            "text/html": [
              "<p style=\"color: red;\">\n",
              "The default version of TensorFlow in Colab will soon switch to TensorFlow 2.x.<br>\n",
              "We recommend you <a href=\"https://www.tensorflow.org/guide/migrate\" target=\"_blank\">upgrade</a> now \n",
              "or ensure your notebook will continue to use TensorFlow 1.x via the <code>%tensorflow_version 1.x</code> magic:\n",
              "<a href=\"https://colab.research.google.com/notebooks/tensorflow_version.ipynb\" target=\"_blank\">more info</a>.</p>\n"
            ],
            "text/plain": [
              "<IPython.core.display.HTML object>"
            ]
          },
          "metadata": {
            "tags": []
          }
        }
      ]
    },
    {
      "cell_type": "code",
      "metadata": {
        "id": "ql8de7yjKw29",
        "colab_type": "code",
        "outputId": "4d0f86ee-7188-45a8-edc2-9ac688a49baa",
        "colab": {
          "base_uri": "https://localhost:8080/",
          "height": 34
        }
      },
      "source": [
        "def load_photos(directory):\n",
        "    images = dict()\n",
        "    for name in listdir(directory):\n",
        "      filename = directory + '/' + name\n",
        "      image = load_img(filename, target_size=(224, 224))\n",
        "      image = img_to_array(image)\n",
        "      image = image.reshape((1, image.shape[0], image.shape[1], image.shape[2]))\n",
        "      image = preprocess_input(image)\n",
        "      image_id = name.split('.')[0]\n",
        "      images[image_id] = image\n",
        "  \n",
        "    return images\n",
        "directory = '/content/drive/My Drive/data/tomato/train'\n",
        "images = load_photos(directory)\n",
        "print('Loaded Images: %d' % len(images))"
      ],
      "execution_count": 0,
      "outputs": [
        {
          "output_type": "stream",
          "text": [
            "Loaded Images: 2215\n"
          ],
          "name": "stdout"
        }
      ]
    },
    {
      "cell_type": "code",
      "metadata": {
        "id": "GrBuoWmYSRnR",
        "colab_type": "code",
        "colab": {}
      },
      "source": [
        "fnames=['Nitrogen ({}).JPG'.format(i) for i in range(100)] \n",
        "for fname in fnames:\n",
        "  src= os.path.join(original_dataset_dir, fname)\n",
        "  dst= os.path.join(train_Nitrogen_dir,fname)\n",
        "  shutil.copyfile(src, dst)"
      ],
      "execution_count": 0,
      "outputs": []
    },
    {
      "cell_type": "code",
      "metadata": {
        "id": "qbiKK7dhSRX7",
        "colab_type": "code",
        "outputId": "15d3a5ef-a791-45a9-cb38-dd8ce938bc88",
        "colab": {
          "base_uri": "https://localhost:8080/",
          "height": 34
        }
      },
      "source": [
        "print('total Nitrogen images:', len(os.listdir(train_Nitrogen_dir)))"
      ],
      "execution_count": 0,
      "outputs": [
        {
          "output_type": "stream",
          "text": [
            "total Nitrogen images: 100\n"
          ],
          "name": "stdout"
        }
      ]
    },
    {
      "cell_type": "code",
      "metadata": {
        "id": "BV_TsI6fKwzP",
        "colab_type": "code",
        "colab": {}
      },
      "source": [
        "fnames=['Nitrogen ({}).JPG'.format(i) for i in range(100,150)] \n",
        "for fname in fnames:\n",
        "  src= os.path.join(original_dataset_dir, fname)\n",
        "  dst= os.path.join(validation_Nitrogen_dir,fname)\n",
        "  shutil.copyfile(src, dst)"
      ],
      "execution_count": 0,
      "outputs": []
    },
    {
      "cell_type": "code",
      "metadata": {
        "id": "7mlehUnNKwx_",
        "colab_type": "code",
        "colab": {}
      },
      "source": [
        "fnames=['Nitrogen ({}).JPG'.format(i) for i in range(150,200)] \n",
        "for fname in fnames:\n",
        "  src= os.path.join(original_dataset_dir, fname)\n",
        "  dst= os.path.join(train_Nitrogen_dir,fname)\n",
        "  shutil.copyfile(src, dst)"
      ],
      "execution_count": 0,
      "outputs": []
    },
    {
      "cell_type": "code",
      "metadata": {
        "id": "U2_R3ULyKwuO",
        "colab_type": "code",
        "colab": {}
      },
      "source": [
        "fnames=['BacterialSpot ({}).JPG'.format(i) for i in range(100)] \n",
        "for fname in fnames:\n",
        "  src= os.path.join(original_dataset_dir, fname)\n",
        "  dst= os.path.join(train_BacterialSpot_dir,fname)\n",
        "  shutil.copyfile(src, dst)"
      ],
      "execution_count": 0,
      "outputs": []
    },
    {
      "cell_type": "code",
      "metadata": {
        "id": "Ev0Rdo4lKwrI",
        "colab_type": "code",
        "colab": {}
      },
      "source": [
        "fnames=['BacterialSpot ({}).JPG'.format(i) for i in range(100,150)] \n",
        "for fname in fnames:\n",
        "  src= os.path.join(original_dataset_dir, fname)\n",
        "  dst= os.path.join(validation_BacterialSpot_dir,fname)\n",
        "  shutil.copyfile(src, dst)"
      ],
      "execution_count": 0,
      "outputs": []
    },
    {
      "cell_type": "code",
      "metadata": {
        "id": "gjLRR6ldZ9no",
        "colab_type": "code",
        "colab": {}
      },
      "source": [
        "fnames=['BacterialSpot ({}).JPG'.format(i) for i in range(150,200)] \n",
        "for fname in fnames:\n",
        "  src= os.path.join(original_dataset_dir, fname)\n",
        "  dst= os.path.join(test_BacterialSpot_dir,fname)\n",
        "  shutil.copyfile(src, dst)"
      ],
      "execution_count": 0,
      "outputs": []
    },
    {
      "cell_type": "code",
      "metadata": {
        "id": "eH7MhjKMZ9GF",
        "colab_type": "code",
        "colab": {}
      },
      "source": [
        "fnames=['EarlyBlight ({}).JPG'.format(i) for i in range(100)] \n",
        "for fname in fnames:\n",
        "  src= os.path.join(original_dataset_dir, fname)\n",
        "  dst= os.path.join(train_EarlyBlight_dir,fname)\n",
        "  shutil.copyfile(src, dst)"
      ],
      "execution_count": 0,
      "outputs": []
    },
    {
      "cell_type": "code",
      "metadata": {
        "id": "lSBIgbRSbdBq",
        "colab_type": "code",
        "colab": {}
      },
      "source": [
        "fnames=['EarlyBlight ({}).JPG'.format(i) for i in range(100,150)] \n",
        "for fname in fnames:\n",
        "  src= os.path.join(original_dataset_dir, fname)\n",
        "  dst= os.path.join(validation_EarlyBlight_dir,fname)\n",
        "  shutil.copyfile(src, dst)"
      ],
      "execution_count": 0,
      "outputs": []
    },
    {
      "cell_type": "code",
      "metadata": {
        "id": "FECosxOKbc9z",
        "colab_type": "code",
        "colab": {}
      },
      "source": [
        "fnames=['EarlyBlight ({}).JPG'.format(i) for i in range(150,200)] \n",
        "for fname in fnames:\n",
        "  src= os.path.join(original_dataset_dir, fname)\n",
        "  dst= os.path.join(test_EarlyBlight_dir,fname)\n",
        "  shutil.copyfile(src, dst)"
      ],
      "execution_count": 0,
      "outputs": []
    },
    {
      "cell_type": "code",
      "metadata": {
        "id": "_JsDPcN-bc7V",
        "colab_type": "code",
        "colab": {}
      },
      "source": [
        "fnames=['Healthy ({}).JPG'.format(i) for i in range(100)] \n",
        "for fname in fnames:\n",
        "  src= os.path.join(original_dataset_dir, fname)\n",
        "  dst= os.path.join(train_Healthy_dir,fname)\n",
        "  shutil.copyfile(src, dst)"
      ],
      "execution_count": 0,
      "outputs": []
    },
    {
      "cell_type": "code",
      "metadata": {
        "id": "ohS-j3GUbc4W",
        "colab_type": "code",
        "colab": {}
      },
      "source": [
        "fnames=['Healthy ({}).JPG'.format(i) for i in range(100,150)] \n",
        "for fname in fnames:\n",
        "  src= os.path.join(original_dataset_dir, fname)\n",
        "  dst= os.path.join(validation_Healthy_dir,fname)\n",
        "  shutil.copyfile(src, dst)"
      ],
      "execution_count": 0,
      "outputs": []
    },
    {
      "cell_type": "code",
      "metadata": {
        "id": "OFWdBqEscPF-",
        "colab_type": "code",
        "colab": {}
      },
      "source": [
        "fnames=['Healthy ({}).JPG'.format(i) for i in range(150,200)] \n",
        "for fname in fnames:\n",
        "  src= os.path.join(original_dataset_dir, fname)\n",
        "  dst= os.path.join(test_Healthy_dir,fname)\n",
        "  shutil.copyfile(src, dst)"
      ],
      "execution_count": 0,
      "outputs": []
    },
    {
      "cell_type": "code",
      "metadata": {
        "id": "ZparKvh9cQGm",
        "colab_type": "code",
        "colab": {}
      },
      "source": [
        "fnames=['LateBlight ({}).JPG'.format(i) for i in range(100)] \n",
        "for fname in fnames:\n",
        "  src= os.path.join(original_dataset_dir, fname)\n",
        "  dst= os.path.join(train_LateBlight_dir,fname)\n",
        "  shutil.copyfile(src, dst)"
      ],
      "execution_count": 0,
      "outputs": []
    },
    {
      "cell_type": "code",
      "metadata": {
        "id": "0cq7A6XkcQDk",
        "colab_type": "code",
        "colab": {}
      },
      "source": [
        "fnames=['LateBlight ({}).JPG'.format(i) for i in range(100,150)] \n",
        "for fname in fnames:\n",
        "  src= os.path.join(original_dataset_dir, fname)\n",
        "  dst= os.path.join(test_LateBlight_dir,fname)\n",
        "  shutil.copyfile(src, dst)"
      ],
      "execution_count": 0,
      "outputs": []
    },
    {
      "cell_type": "code",
      "metadata": {
        "id": "y8l-smxreKJf",
        "colab_type": "code",
        "colab": {}
      },
      "source": [
        "fnames=['LateBlight ({}).JPG'.format(i) for i in range(150,200)] \n",
        "for fname in fnames:\n",
        "  src= os.path.join(original_dataset_dir, fname)\n",
        "  dst= os.path.join(validation_LateBlight_dir,fname)\n",
        "  shutil.copyfile(src, dst)"
      ],
      "execution_count": 0,
      "outputs": []
    },
    {
      "cell_type": "code",
      "metadata": {
        "id": "M1p2EfakecM1",
        "colab_type": "code",
        "colab": {}
      },
      "source": [
        "fnames=['LeafMold ({}).JPG'.format(i) for i in range(100)] \n",
        "for fname in fnames:\n",
        "  src= os.path.join(original_dataset_dir, fname)\n",
        "  dst= os.path.join(train_LeafMold_dir,fname)\n",
        "  shutil.copyfile(src, dst)"
      ],
      "execution_count": 0,
      "outputs": []
    },
    {
      "cell_type": "code",
      "metadata": {
        "id": "mfrsNq_Hfga_",
        "colab_type": "code",
        "colab": {}
      },
      "source": [
        "fnames=['LeafMold ({}).JPG'.format(i) for i in range(100,150)] \n",
        "for fname in fnames:\n",
        "  src= os.path.join(original_dataset_dir, fname)\n",
        "  dst= os.path.join(validation_LeafMold_dir,fname)\n",
        "  shutil.copyfile(src, dst)"
      ],
      "execution_count": 0,
      "outputs": []
    },
    {
      "cell_type": "code",
      "metadata": {
        "id": "rourWz43fr-N",
        "colab_type": "code",
        "colab": {}
      },
      "source": [
        "fnames=['LeafMold ({}).JPG'.format(i) for i in range(150,200)] \n",
        "for fname in fnames:\n",
        "  src= os.path.join(original_dataset_dir, fname)\n",
        "  dst= os.path.join(test_LeafMold_dir,fname)\n",
        "  shutil.copyfile(src, dst)"
      ],
      "execution_count": 0,
      "outputs": []
    },
    {
      "cell_type": "code",
      "metadata": {
        "id": "eVUl8eRCfwHd",
        "colab_type": "code",
        "colab": {}
      },
      "source": [
        "fnames=['MosaicVirus ({}).JPG'.format(i) for i in range(100)] \n",
        "for fname in fnames:\n",
        "  src= os.path.join(original_dataset_dir, fname)\n",
        "  dst= os.path.join(train_MosaicVirus_dir,fname)\n",
        "  shutil.copyfile(src, dst)"
      ],
      "execution_count": 0,
      "outputs": []
    },
    {
      "cell_type": "code",
      "metadata": {
        "id": "8oQ3PIqSgNv3",
        "colab_type": "code",
        "colab": {}
      },
      "source": [
        "fnames=['MosaicVirus ({}).JPG'.format(i) for i in range(100,150)] \n",
        "for fname in fnames:\n",
        "  src= os.path.join(original_dataset_dir, fname)\n",
        "  dst= os.path.join(test_MosaicVirus_dir,fname)\n",
        "  shutil.copyfile(src, dst)"
      ],
      "execution_count": 0,
      "outputs": []
    },
    {
      "cell_type": "code",
      "metadata": {
        "id": "vpD5jpcIgcGd",
        "colab_type": "code",
        "colab": {}
      },
      "source": [
        "fnames=['MosaicVirus ({}).JPG'.format(i) for i in range(150,200)] \n",
        "for fname in fnames:\n",
        "  src= os.path.join(original_dataset_dir, fname)\n",
        "  dst= os.path.join(validation_MosaicVirus_dir,fname)\n",
        "  shutil.copyfile(src, dst)"
      ],
      "execution_count": 0,
      "outputs": []
    },
    {
      "cell_type": "code",
      "metadata": {
        "id": "nFZW38zigqjt",
        "colab_type": "code",
        "colab": {}
      },
      "source": [
        "fnames=['SeptoriaLeafSpot ({}).JPG'.format(i) for i in range(100)] \n",
        "for fname in fnames:\n",
        "  src= os.path.join(original_dataset_dir, fname)\n",
        "  dst= os.path.join(train_SeptoriaLeafSpot_dir,fname)\n",
        "  shutil.copyfile(src, dst)"
      ],
      "execution_count": 0,
      "outputs": []
    },
    {
      "cell_type": "code",
      "metadata": {
        "id": "DJUaG11kg60d",
        "colab_type": "code",
        "colab": {}
      },
      "source": [
        "fnames=['SeptoriaLeafSpot ({}).JPG'.format(i) for i in range(100,150)] \n",
        "for fname in fnames:\n",
        "  src= os.path.join(original_dataset_dir, fname)\n",
        "  dst= os.path.join(test_SeptoriaLeafSpot_dir,fname)\n",
        "  shutil.copyfile(src, dst)"
      ],
      "execution_count": 0,
      "outputs": []
    },
    {
      "cell_type": "code",
      "metadata": {
        "id": "C7RPEDnKhDkt",
        "colab_type": "code",
        "colab": {}
      },
      "source": [
        "fnames=['SeptoriaLeafSpot ({}).JPG'.format(i) for i in range(150,200)] \n",
        "for fname in fnames:\n",
        "  src= os.path.join(original_dataset_dir, fname)\n",
        "  dst= os.path.join(validation_SeptoriaLeafSpot_dir,fname)\n",
        "  shutil.copyfile(src, dst)"
      ],
      "execution_count": 0,
      "outputs": []
    },
    {
      "cell_type": "code",
      "metadata": {
        "id": "Nhs5j5ZPhO89",
        "colab_type": "code",
        "colab": {}
      },
      "source": [
        "fnames=['TargetSpot ({}).JPG'.format(i) for i in range(100)] \n",
        "for fname in fnames:\n",
        "  src= os.path.join(original_dataset_dir, fname)\n",
        "  dst= os.path.join(train_TargetSpot_dir,fname)\n",
        "  shutil.copyfile(src, dst)"
      ],
      "execution_count": 0,
      "outputs": []
    },
    {
      "cell_type": "code",
      "metadata": {
        "id": "F5OcB2XDhXSw",
        "colab_type": "code",
        "colab": {}
      },
      "source": [
        "fnames=['TargetSpot ({}).JPG'.format(i) for i in range(100,150)] \n",
        "for fname in fnames:\n",
        "  src= os.path.join(original_dataset_dir, fname)\n",
        "  dst= os.path.join(test_TargetSpot_dir,fname)\n",
        "  shutil.copyfile(src, dst)"
      ],
      "execution_count": 0,
      "outputs": []
    },
    {
      "cell_type": "code",
      "metadata": {
        "id": "YEDI78k1hkdt",
        "colab_type": "code",
        "colab": {}
      },
      "source": [
        "fnames=['TargetSpot ({}).JPG'.format(i) for i in range(150,200)] \n",
        "for fname in fnames:\n",
        "  src= os.path.join(original_dataset_dir, fname)\n",
        "  dst= os.path.join(validation_TargetSpot_dir,fname)\n",
        "  shutil.copyfile(src, dst)"
      ],
      "execution_count": 0,
      "outputs": []
    },
    {
      "cell_type": "code",
      "metadata": {
        "id": "WiJ3xwBBhuGN",
        "colab_type": "code",
        "colab": {}
      },
      "source": [
        "fnames=['YellowLeaf ({}).JPG'.format(i) for i in range(100)] \n",
        "for fname in fnames:\n",
        "  src= os.path.join(original_dataset_dir, fname)\n",
        "  dst= os.path.join(train_YellowLeaf_dir,fname)\n",
        "  shutil.copyfile(src, dst)"
      ],
      "execution_count": 0,
      "outputs": []
    },
    {
      "cell_type": "code",
      "metadata": {
        "id": "VZTLUG1WiI7N",
        "colab_type": "code",
        "colab": {}
      },
      "source": [
        "fnames=['YellowLeaf ({}).JPG'.format(i) for i in range(100,150)] \n",
        "for fname in fnames:\n",
        "  src= os.path.join(original_dataset_dir, fname)\n",
        "  dst= os.path.join(test_YellowLeaf_dir,fname)\n",
        "  shutil.copyfile(src, dst)"
      ],
      "execution_count": 0,
      "outputs": []
    },
    {
      "cell_type": "code",
      "metadata": {
        "id": "UaneAKgRiQYt",
        "colab_type": "code",
        "colab": {}
      },
      "source": [
        "fnames=['YellowLeaf ({}).JPG'.format(i) for i in range(150,200)] \n",
        "for fname in fnames:\n",
        "  src= os.path.join(original_dataset_dir, fname)\n",
        "  dst= os.path.join(validation_YellowLeaf_dir,fname)\n",
        "  shutil.copyfile(src, dst)"
      ],
      "execution_count": 0,
      "outputs": []
    },
    {
      "cell_type": "code",
      "metadata": {
        "id": "BaIyea1IiXt9",
        "colab_type": "code",
        "colab": {
          "base_uri": "https://localhost:8080/",
          "height": 80
        },
        "outputId": "71332c74-4387-48f7-b0f0-1392fcf365ea"
      },
      "source": [
        "from keras import layers\n",
        "from keras import models"
      ],
      "execution_count": 9,
      "outputs": [
        {
          "output_type": "stream",
          "text": [
            "Using TensorFlow backend.\n"
          ],
          "name": "stderr"
        },
        {
          "output_type": "display_data",
          "data": {
            "text/html": [
              "<p style=\"color: red;\">\n",
              "The default version of TensorFlow in Colab will soon switch to TensorFlow 2.x.<br>\n",
              "We recommend you <a href=\"https://www.tensorflow.org/guide/migrate\" target=\"_blank\">upgrade</a> now \n",
              "or ensure your notebook will continue to use TensorFlow 1.x via the <code>%tensorflow_version 1.x</code> magic:\n",
              "<a href=\"https://colab.research.google.com/notebooks/tensorflow_version.ipynb\" target=\"_blank\">more info</a>.</p>\n"
            ],
            "text/plain": [
              "<IPython.core.display.HTML object>"
            ]
          },
          "metadata": {
            "tags": []
          }
        }
      ]
    },
    {
      "cell_type": "code",
      "metadata": {
        "id": "d4sSq4xseG3k",
        "colab_type": "code",
        "colab": {
          "base_uri": "https://localhost:8080/",
          "height": 173
        },
        "outputId": "49cc4803-81d2-49d0-cae4-ee7088eaef2f"
      },
      "source": [
        "model = models.Sequential()\n",
        "model.add(layers.Conv2D(32, (3,3), activation='relu', input_shape=(150,150,3)))\n",
        "model.add(layers.MaxPooling2D((2,2)))\n",
        "model.add(layers.Conv2D(64, (3,3), activation='relu'))\n",
        "model.add(layers.MaxPooling2D((2,2)))\n",
        "model.add(layers.Conv2D(128, (3,3), activation='relu'))\n",
        "model.add(layers.MaxPooling2D((2,2)))\n",
        "#model.add(layers.Conv2D(128, (3,3), activation='relu'))\n",
        "#model.add(layers.MaxPooling2D((2,2)))\n",
        "model.add(layers.Flatten())\n",
        "model.add(layers.Dense(512, activation='relu'))\n",
        "model.add(layers.Dense(1, activation='softmax'))"
      ],
      "execution_count": 10,
      "outputs": [
        {
          "output_type": "stream",
          "text": [
            "WARNING:tensorflow:From /usr/local/lib/python3.6/dist-packages/keras/backend/tensorflow_backend.py:66: The name tf.get_default_graph is deprecated. Please use tf.compat.v1.get_default_graph instead.\n",
            "\n",
            "WARNING:tensorflow:From /usr/local/lib/python3.6/dist-packages/keras/backend/tensorflow_backend.py:541: The name tf.placeholder is deprecated. Please use tf.compat.v1.placeholder instead.\n",
            "\n",
            "WARNING:tensorflow:From /usr/local/lib/python3.6/dist-packages/keras/backend/tensorflow_backend.py:4432: The name tf.random_uniform is deprecated. Please use tf.random.uniform instead.\n",
            "\n",
            "WARNING:tensorflow:From /usr/local/lib/python3.6/dist-packages/keras/backend/tensorflow_backend.py:4267: The name tf.nn.max_pool is deprecated. Please use tf.nn.max_pool2d instead.\n",
            "\n"
          ],
          "name": "stdout"
        }
      ]
    },
    {
      "cell_type": "code",
      "metadata": {
        "id": "DizFgIS6gzSF",
        "colab_type": "code",
        "colab": {
          "base_uri": "https://localhost:8080/",
          "height": 459
        },
        "outputId": "5164e1e9-34ba-4090-ffc4-be3d89097102"
      },
      "source": [
        "model.summary()"
      ],
      "execution_count": 4,
      "outputs": [
        {
          "output_type": "stream",
          "text": [
            "Model: \"sequential_1\"\n",
            "_________________________________________________________________\n",
            "Layer (type)                 Output Shape              Param #   \n",
            "=================================================================\n",
            "conv2d_1 (Conv2D)            (None, 148, 148, 32)      896       \n",
            "_________________________________________________________________\n",
            "max_pooling2d_1 (MaxPooling2 (None, 74, 74, 32)        0         \n",
            "_________________________________________________________________\n",
            "conv2d_2 (Conv2D)            (None, 72, 72, 64)        18496     \n",
            "_________________________________________________________________\n",
            "max_pooling2d_2 (MaxPooling2 (None, 36, 36, 64)        0         \n",
            "_________________________________________________________________\n",
            "conv2d_3 (Conv2D)            (None, 34, 34, 128)       73856     \n",
            "_________________________________________________________________\n",
            "max_pooling2d_3 (MaxPooling2 (None, 17, 17, 128)       0         \n",
            "_________________________________________________________________\n",
            "flatten_1 (Flatten)          (None, 36992)             0         \n",
            "_________________________________________________________________\n",
            "dense_1 (Dense)              (None, 512)               18940416  \n",
            "_________________________________________________________________\n",
            "dense_2 (Dense)              (None, 1)                 513       \n",
            "=================================================================\n",
            "Total params: 19,034,177\n",
            "Trainable params: 19,034,177\n",
            "Non-trainable params: 0\n",
            "_________________________________________________________________\n"
          ],
          "name": "stdout"
        }
      ]
    },
    {
      "cell_type": "code",
      "metadata": {
        "id": "1Q2GtiFTg7Jl",
        "colab_type": "code",
        "colab": {
          "base_uri": "https://localhost:8080/",
          "height": 85
        },
        "outputId": "de7e9f96-fea5-4a0b-8d35-4c67cc166ccc"
      },
      "source": [
        "from keras import optimizers\n",
        "model.compile(loss='sparse_categorical_crossentropy', optimizer=optimizers.Adagrad(lr=0.01), metrics=['acc'])"
      ],
      "execution_count": 11,
      "outputs": [
        {
          "output_type": "stream",
          "text": [
            "WARNING:tensorflow:From /usr/local/lib/python3.6/dist-packages/keras/optimizers.py:793: The name tf.train.Optimizer is deprecated. Please use tf.compat.v1.train.Optimizer instead.\n",
            "\n",
            "WARNING:tensorflow:From /usr/local/lib/python3.6/dist-packages/keras/backend/tensorflow_backend.py:3622: The name tf.log is deprecated. Please use tf.math.log instead.\n",
            "\n"
          ],
          "name": "stdout"
        }
      ]
    },
    {
      "cell_type": "code",
      "metadata": {
        "id": "6SopxP1IjCdU",
        "colab_type": "code",
        "colab": {}
      },
      "source": [
        "#this rescales all images by 1/255\n",
        "from keras.preprocessing.image import ImageDataGenerator\n",
        "train_datagen = ImageDataGenerator(rescale=1./255)\n",
        "test_datagen= ImageDataGenerator(rescale=1./255)"
      ],
      "execution_count": 0,
      "outputs": []
    },
    {
      "cell_type": "code",
      "metadata": {
        "id": "O5vzPQtjkv3v",
        "colab_type": "code",
        "colab": {
          "base_uri": "https://localhost:8080/",
          "height": 51
        },
        "outputId": "4e1ebbbf-d530-4d83-aa9f-0f50e3234d69"
      },
      "source": [
        "#adding the train images to resize\n",
        "train_generator = train_datagen.flow_from_directory(\n",
        "    train_dir, target_size=(150, 150), batch_size=20, class_mode='sparse')\n",
        "validation_generator=test_datagen.flow_from_directory(\n",
        "    validation_dir, target_size=(150, 150), batch_size=20, class_mode='sparse'\n",
        ")"
      ],
      "execution_count": 13,
      "outputs": [
        {
          "output_type": "stream",
          "text": [
            "Found 1050 images belonging to 10 classes.\n",
            "Found 600 images belonging to 10 classes.\n"
          ],
          "name": "stdout"
        }
      ]
    },
    {
      "cell_type": "code",
      "metadata": {
        "id": "n0PuJ3B2pmMt",
        "colab_type": "code",
        "colab": {
          "base_uri": "https://localhost:8080/",
          "height": 1000
        },
        "outputId": "37021ee6-79eb-407d-ddab-4b87e2b879b6"
      },
      "source": [
        "history= model.fit_generator(\n",
        "    train_generator, steps_per_epoch=100, epochs=30,\n",
        "    validation_data=validation_generator, validation_steps=50\n",
        ")"
      ],
      "execution_count": 14,
      "outputs": [
        {
          "output_type": "stream",
          "text": [
            "WARNING:tensorflow:From /usr/local/lib/python3.6/dist-packages/tensorflow_core/python/ops/math_grad.py:1424: where (from tensorflow.python.ops.array_ops) is deprecated and will be removed in a future version.\n",
            "Instructions for updating:\n",
            "Use tf.where in 2.0, which has the same broadcast rule as np.where\n",
            "WARNING:tensorflow:From /usr/local/lib/python3.6/dist-packages/keras/backend/tensorflow_backend.py:1033: The name tf.assign_add is deprecated. Please use tf.compat.v1.assign_add instead.\n",
            "\n",
            "WARNING:tensorflow:From /usr/local/lib/python3.6/dist-packages/keras/backend/tensorflow_backend.py:1020: The name tf.assign is deprecated. Please use tf.compat.v1.assign instead.\n",
            "\n",
            "WARNING:tensorflow:From /usr/local/lib/python3.6/dist-packages/keras/backend/tensorflow_backend.py:3005: The name tf.Session is deprecated. Please use tf.compat.v1.Session instead.\n",
            "\n",
            "Epoch 1/30\n",
            "WARNING:tensorflow:From /usr/local/lib/python3.6/dist-packages/keras/backend/tensorflow_backend.py:190: The name tf.get_default_session is deprecated. Please use tf.compat.v1.get_default_session instead.\n",
            "\n",
            "WARNING:tensorflow:From /usr/local/lib/python3.6/dist-packages/keras/backend/tensorflow_backend.py:197: The name tf.ConfigProto is deprecated. Please use tf.compat.v1.ConfigProto instead.\n",
            "\n",
            "WARNING:tensorflow:From /usr/local/lib/python3.6/dist-packages/keras/backend/tensorflow_backend.py:207: The name tf.global_variables is deprecated. Please use tf.compat.v1.global_variables instead.\n",
            "\n",
            "WARNING:tensorflow:From /usr/local/lib/python3.6/dist-packages/keras/backend/tensorflow_backend.py:216: The name tf.is_variable_initialized is deprecated. Please use tf.compat.v1.is_variable_initialized instead.\n",
            "\n",
            "WARNING:tensorflow:From /usr/local/lib/python3.6/dist-packages/keras/backend/tensorflow_backend.py:223: The name tf.variables_initializer is deprecated. Please use tf.compat.v1.variables_initializer instead.\n",
            "\n",
            "100/100 [==============================] - 399s 4s/step - loss: nan - acc: 0.0955 - val_loss: nan - val_acc: 0.0800\n",
            "Epoch 2/30\n",
            "100/100 [==============================] - 8s 78ms/step - loss: nan - acc: 0.0950 - val_loss: nan - val_acc: 0.0930\n",
            "Epoch 3/30\n",
            "100/100 [==============================] - 8s 76ms/step - loss: nan - acc: 0.0955 - val_loss: nan - val_acc: 0.0770\n",
            "Epoch 4/30\n",
            "100/100 [==============================] - 8s 77ms/step - loss: nan - acc: 0.0990 - val_loss: nan - val_acc: 0.0870\n",
            "Epoch 5/30\n",
            "100/100 [==============================] - 8s 77ms/step - loss: nan - acc: 0.0945 - val_loss: nan - val_acc: 0.0820\n",
            "Epoch 6/30\n",
            "100/100 [==============================] - 8s 75ms/step - loss: nan - acc: 0.0965 - val_loss: nan - val_acc: 0.0810\n",
            "Epoch 7/30\n",
            "100/100 [==============================] - 7s 75ms/step - loss: nan - acc: 0.0955 - val_loss: nan - val_acc: 0.0760\n",
            "Epoch 8/30\n",
            "100/100 [==============================] - 8s 76ms/step - loss: nan - acc: 0.0965 - val_loss: nan - val_acc: 0.0950\n",
            "Epoch 9/30\n",
            "100/100 [==============================] - 7s 74ms/step - loss: nan - acc: 0.0930 - val_loss: nan - val_acc: 0.0790\n",
            "Epoch 10/30\n",
            "100/100 [==============================] - 8s 80ms/step - loss: nan - acc: 0.0960 - val_loss: nan - val_acc: 0.0750\n",
            "Epoch 11/30\n",
            "100/100 [==============================] - 8s 82ms/step - loss: nan - acc: 0.0930 - val_loss: nan - val_acc: 0.0930\n",
            "Epoch 12/30\n",
            "100/100 [==============================] - 8s 80ms/step - loss: nan - acc: 0.0960 - val_loss: nan - val_acc: 0.0820\n",
            "Epoch 13/30\n",
            "100/100 [==============================] - 8s 82ms/step - loss: nan - acc: 0.0885 - val_loss: nan - val_acc: 0.0860\n",
            "Epoch 14/30\n",
            "100/100 [==============================] - 8s 77ms/step - loss: nan - acc: 0.1055 - val_loss: nan - val_acc: 0.0800\n",
            "Epoch 15/30\n",
            "100/100 [==============================] - 8s 82ms/step - loss: nan - acc: 0.0905 - val_loss: nan - val_acc: 0.0840\n",
            "Epoch 16/30\n",
            "100/100 [==============================] - 8s 77ms/step - loss: nan - acc: 0.0935 - val_loss: nan - val_acc: 0.0850\n",
            "Epoch 17/30\n",
            "100/100 [==============================] - 8s 78ms/step - loss: nan - acc: 0.1000 - val_loss: nan - val_acc: 0.0790\n",
            "Epoch 18/30\n",
            "100/100 [==============================] - 8s 75ms/step - loss: nan - acc: 0.0950 - val_loss: nan - val_acc: 0.0860\n",
            "Epoch 19/30\n",
            "100/100 [==============================] - 8s 79ms/step - loss: nan - acc: 0.0945 - val_loss: nan - val_acc: 0.0770\n",
            "Epoch 20/30\n",
            "100/100 [==============================] - 8s 81ms/step - loss: nan - acc: 0.0960 - val_loss: nan - val_acc: 0.0860\n",
            "Epoch 21/30\n",
            "100/100 [==============================] - 8s 77ms/step - loss: nan - acc: 0.0960 - val_loss: nan - val_acc: 0.0870\n",
            "Epoch 22/30\n",
            "100/100 [==============================] - 8s 76ms/step - loss: nan - acc: 0.0950 - val_loss: nan - val_acc: 0.0850\n",
            "Epoch 23/30\n",
            "100/100 [==============================] - 8s 79ms/step - loss: nan - acc: 0.0925 - val_loss: nan - val_acc: 0.0810\n",
            "Epoch 24/30\n",
            "100/100 [==============================] - 8s 79ms/step - loss: nan - acc: 0.1005 - val_loss: nan - val_acc: 0.0840\n",
            "Epoch 25/30\n",
            "100/100 [==============================] - 8s 76ms/step - loss: nan - acc: 0.0940 - val_loss: nan - val_acc: 0.0870\n",
            "Epoch 26/30\n",
            "100/100 [==============================] - 8s 78ms/step - loss: nan - acc: 0.0945 - val_loss: nan - val_acc: 0.0760\n",
            "Epoch 27/30\n",
            "100/100 [==============================] - 8s 76ms/step - loss: nan - acc: 0.0970 - val_loss: nan - val_acc: 0.0870\n",
            "Epoch 28/30\n",
            "100/100 [==============================] - 8s 81ms/step - loss: nan - acc: 0.0920 - val_loss: nan - val_acc: 0.0820\n",
            "Epoch 29/30\n",
            "100/100 [==============================] - 8s 77ms/step - loss: nan - acc: 0.0990 - val_loss: nan - val_acc: 0.0880\n",
            "Epoch 30/30\n",
            "100/100 [==============================] - 8s 78ms/step - loss: nan - acc: 0.0940 - val_loss: nan - val_acc: 0.0800\n"
          ],
          "name": "stdout"
        }
      ]
    },
    {
      "cell_type": "code",
      "metadata": {
        "id": "6KVmEwG-q7cD",
        "colab_type": "code",
        "colab": {}
      },
      "source": [
        "model.save('tomato_1')"
      ],
      "execution_count": 0,
      "outputs": []
    },
    {
      "cell_type": "code",
      "metadata": {
        "id": "t4g4eVQsTCUH",
        "colab_type": "code",
        "colab": {}
      },
      "source": [
        ""
      ],
      "execution_count": 0,
      "outputs": []
    }
  ]
}