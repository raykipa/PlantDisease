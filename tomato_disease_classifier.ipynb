{
  "nbformat": 4,
  "nbformat_minor": 0,
  "metadata": {
    "colab": {
      "name": "splitting_data.ipynb",
      "provenance": [],
      "authorship_tag": "ABX9TyNhBk2AwPOO4nNgc0ht9JqW",
      "include_colab_link": true
    },
    "kernelspec": {
      "name": "python3",
      "display_name": "Python 3"
    },
    "accelerator": "GPU"
  },
  "cells": [
    {
      "cell_type": "markdown",
      "metadata": {
        "id": "view-in-github",
        "colab_type": "text"
      },
      "source": [
        "<a href=\"https://colab.research.google.com/github/raykipa/PlantDisease/blob/master/tomato_disease_classifier.ipynb\" target=\"_parent\"><img src=\"https://colab.research.google.com/assets/colab-badge.svg\" alt=\"Open In Colab\"/></a>"
      ]
    },
    {
      "cell_type": "code",
      "metadata": {
        "id": "jSLotv--BhMx",
        "colab_type": "code",
        "colab": {}
      },
      "source": [
        "from google.colab import drive"
      ],
      "execution_count": 0,
      "outputs": []
    },
    {
      "cell_type": "code",
      "metadata": {
        "id": "aGyZm1V-Bm87",
        "colab_type": "code",
        "outputId": "9f83a6c1-47bc-418b-fb28-4924d2c198e7",
        "colab": {
          "base_uri": "https://localhost:8080/",
          "height": 122
        }
      },
      "source": [
        "drive.mount('/content/drive')"
      ],
      "execution_count": 2,
      "outputs": [
        {
          "output_type": "stream",
          "text": [
            "Go to this URL in a browser: https://accounts.google.com/o/oauth2/auth?client_id=947318989803-6bn6qk8qdgf4n4g3pfee6491hc0brc4i.apps.googleusercontent.com&redirect_uri=urn%3aietf%3awg%3aoauth%3a2.0%3aoob&response_type=code&scope=email%20https%3a%2f%2fwww.googleapis.com%2fauth%2fdocs.test%20https%3a%2f%2fwww.googleapis.com%2fauth%2fdrive%20https%3a%2f%2fwww.googleapis.com%2fauth%2fdrive.photos.readonly%20https%3a%2f%2fwww.googleapis.com%2fauth%2fpeopleapi.readonly\n",
            "\n",
            "Enter your authorization code:\n",
            "··········\n",
            "Mounted at /content/drive\n"
          ],
          "name": "stdout"
        }
      ]
    },
    {
      "cell_type": "code",
      "metadata": {
        "id": "B_0rPNs5Bm2Z",
        "colab_type": "code",
        "colab": {}
      },
      "source": [
        ""
      ],
      "execution_count": 0,
      "outputs": []
    },
    {
      "cell_type": "code",
      "metadata": {
        "id": "KJqUO9s_Bmto",
        "colab_type": "code",
        "colab": {}
      },
      "source": [
        ""
      ],
      "execution_count": 0,
      "outputs": []
    },
    {
      "cell_type": "code",
      "metadata": {
        "id": "Jwy7T8QvWB1i",
        "colab_type": "code",
        "colab": {}
      },
      "source": [
        "import os, shutil"
      ],
      "execution_count": 0,
      "outputs": []
    },
    {
      "cell_type": "code",
      "metadata": {
        "id": "vfjxLO6RhgCk",
        "colab_type": "code",
        "colab": {}
      },
      "source": [
        "original_dataset_dir='/content/drive/My Drive/data/tomato/train'"
      ],
      "execution_count": 0,
      "outputs": []
    },
    {
      "cell_type": "code",
      "metadata": {
        "id": "VbTId1T-hfkI",
        "colab_type": "code",
        "colab": {}
      },
      "source": [
        "base_dir = '/content/drive/My Drive/data/tomato/tomato_small'"
      ],
      "execution_count": 0,
      "outputs": []
    },
    {
      "cell_type": "code",
      "metadata": {
        "id": "V90YhPaBDCJU",
        "colab_type": "code",
        "colab": {}
      },
      "source": [
        "train_dir = os.path.join(base_dir, 'train')\n",
        "#os.mkdir(train_dir)"
      ],
      "execution_count": 0,
      "outputs": []
    },
    {
      "cell_type": "code",
      "metadata": {
        "id": "8lPMMzIYDCBn",
        "colab_type": "code",
        "colab": {}
      },
      "source": [
        "validation_dir = os.path.join(base_dir, 'validation')\n",
        "#os.mkdir(validation_dir)"
      ],
      "execution_count": 0,
      "outputs": []
    },
    {
      "cell_type": "code",
      "metadata": {
        "id": "buumgFASDB3B",
        "colab_type": "code",
        "colab": {}
      },
      "source": [
        "test_dir = os.path.join(base_dir, 'test')\n",
        "#os.mkdir(test_dir)"
      ],
      "execution_count": 0,
      "outputs": []
    },
    {
      "cell_type": "code",
      "metadata": {
        "id": "ay3Rb_eWEAZr",
        "colab_type": "code",
        "colab": {}
      },
      "source": [
        "train_Nitrogen_dir = os.path.join(train_dir, 'Nitrogen')\n",
        "#os.mkdir(train_Nitrogen_dir)"
      ],
      "execution_count": 0,
      "outputs": []
    },
    {
      "cell_type": "code",
      "metadata": {
        "id": "U-TBI8lcEAWd",
        "colab_type": "code",
        "colab": {}
      },
      "source": [
        "validation_Nitrogen_dir = os.path.join(validation_dir, 'Nitrogen')\n",
        "#os.mkdir(validation_Nitrogen_dir)\n"
      ],
      "execution_count": 0,
      "outputs": []
    },
    {
      "cell_type": "code",
      "metadata": {
        "id": "5qKJU6JGEASx",
        "colab_type": "code",
        "colab": {}
      },
      "source": [
        "test_Nitrogen_dir = os.path.join(test_dir, 'Nitrogen')\n",
        "#os.mkdir(test_Nitrogen_dir)\n"
      ],
      "execution_count": 0,
      "outputs": []
    },
    {
      "cell_type": "code",
      "metadata": {
        "id": "1GrAIiNDJlRg",
        "colab_type": "code",
        "colab": {}
      },
      "source": [
        "test_BacterialSpot_dir = os.path.join(test_dir, 'BacterialSpot')\n",
        "#os.mkdir(test_BacterialSpot_dir)"
      ],
      "execution_count": 0,
      "outputs": []
    },
    {
      "cell_type": "code",
      "metadata": {
        "id": "JRwckbNFEu4G",
        "colab_type": "code",
        "colab": {}
      },
      "source": [
        "train_BacterialSpot_dir = os.path.join(train_dir, 'BacterialSpot')\n",
        "#os.mkdir(train_BacterialSpot_dir)"
      ],
      "execution_count": 0,
      "outputs": []
    },
    {
      "cell_type": "code",
      "metadata": {
        "id": "hOrNci_sEu1-",
        "colab_type": "code",
        "colab": {}
      },
      "source": [
        "validation_BacterialSpot_dir = os.path.join(validation_dir, 'BacterialSpot')\n",
        "#os.mkdir(validation_BacterialSpot_dir)"
      ],
      "execution_count": 0,
      "outputs": []
    },
    {
      "cell_type": "code",
      "metadata": {
        "id": "8W7bYT49Euys",
        "colab_type": "code",
        "colab": {}
      },
      "source": [
        "test_EarlyBlight_dir = os.path.join(test_dir, 'EarlyBlight')\n",
        "#os.mkdir(test_EarlyBlight_dir)"
      ],
      "execution_count": 0,
      "outputs": []
    },
    {
      "cell_type": "code",
      "metadata": {
        "id": "BmmGbchBEupy",
        "colab_type": "code",
        "colab": {}
      },
      "source": [
        "train_EarlyBlight_dir = os.path.join(train_dir, 'EarlyBlight')\n",
        "#os.mkdir(train_EarlyBlight_dir)"
      ],
      "execution_count": 0,
      "outputs": []
    },
    {
      "cell_type": "code",
      "metadata": {
        "id": "LjgUUGjUFWj1",
        "colab_type": "code",
        "colab": {}
      },
      "source": [
        "validation_EarlyBlight_dir = os.path.join(validation_dir, 'EarlyBlight')\n",
        "#os.mkdir(validation_EarlyBlight_dir)"
      ],
      "execution_count": 0,
      "outputs": []
    },
    {
      "cell_type": "code",
      "metadata": {
        "id": "WIz4_NTyFWfL",
        "colab_type": "code",
        "colab": {}
      },
      "source": [
        "test_Healthy_dir = os.path.join(test_dir, 'Healthy')\n",
        "#os.mkdir(test_Healthy_dir)"
      ],
      "execution_count": 0,
      "outputs": []
    },
    {
      "cell_type": "code",
      "metadata": {
        "id": "H7Y6bjCVFeGN",
        "colab_type": "code",
        "colab": {}
      },
      "source": [
        "\n",
        "\n",
        "\n",
        "train_Healthy_dir = os.path.join(train_dir, 'Healthy')\n",
        "#os.mkdir(train_Healthy_dir)"
      ],
      "execution_count": 0,
      "outputs": []
    },
    {
      "cell_type": "code",
      "metadata": {
        "id": "vOtqvA2MFeC0",
        "colab_type": "code",
        "colab": {}
      },
      "source": [
        "validation_Healthy_dir = os.path.join(validation_dir, 'Healthy')\n",
        "#os.mkdir(validation_Healthy_dir)"
      ],
      "execution_count": 0,
      "outputs": []
    },
    {
      "cell_type": "code",
      "metadata": {
        "id": "LtppgeRJGEHy",
        "colab_type": "code",
        "colab": {}
      },
      "source": [
        "test_LateBlight_dir = os.path.join(test_dir, 'LateBlight')\n",
        "#os.mkdir(test_LateBlight_dir)"
      ],
      "execution_count": 0,
      "outputs": []
    },
    {
      "cell_type": "code",
      "metadata": {
        "id": "1LDkIQjCGED2",
        "colab_type": "code",
        "colab": {}
      },
      "source": [
        "train_LateBlight_dir = os.path.join(train_dir, 'LateBlight')\n",
        "#os.mkdir(train_LateBlight_dir)"
      ],
      "execution_count": 0,
      "outputs": []
    },
    {
      "cell_type": "code",
      "metadata": {
        "id": "5J_nTqayGD_2",
        "colab_type": "code",
        "colab": {}
      },
      "source": [
        "validation_LateBlight_dir = os.path.join(validation_dir, 'LateBlight')\n",
        "#os.mkdir(validation_LateBlight_dir)"
      ],
      "execution_count": 0,
      "outputs": []
    },
    {
      "cell_type": "code",
      "metadata": {
        "id": "oRlFK_frFd-6",
        "colab_type": "code",
        "colab": {}
      },
      "source": [
        "train_LeafMold_dir = os.path.join(train_dir, 'LeafMold')\n",
        "#os.mkdir(train_LeafMold_dir)"
      ],
      "execution_count": 0,
      "outputs": []
    },
    {
      "cell_type": "code",
      "metadata": {
        "id": "UZJj8rqFG5QH",
        "colab_type": "code",
        "colab": {}
      },
      "source": [
        "test_LeafMold_dir = os.path.join(test_dir, 'LeafMold')\n",
        "#os.mkdir(test_LeafMold_dir)"
      ],
      "execution_count": 0,
      "outputs": []
    },
    {
      "cell_type": "code",
      "metadata": {
        "id": "_XLU45XbG5Hz",
        "colab_type": "code",
        "colab": {}
      },
      "source": [
        "validation_LeafMold_dir = os.path.join(validation_dir, 'LeafMold')\n",
        "#os.mkdir(validation_LeafMold_dir)"
      ],
      "execution_count": 0,
      "outputs": []
    },
    {
      "cell_type": "code",
      "metadata": {
        "id": "yjuBY-KYG5EQ",
        "colab_type": "code",
        "colab": {}
      },
      "source": [
        "train_MosaicVirus_dir = os.path.join(train_dir, 'MosaicVirus')\n",
        "#os.mkdir(train_MosaicVirus_dir)"
      ],
      "execution_count": 0,
      "outputs": []
    },
    {
      "cell_type": "code",
      "metadata": {
        "id": "TYWVOVO_HVo-",
        "colab_type": "code",
        "colab": {}
      },
      "source": [
        "test_MosaicVirus_dir = os.path.join(test_dir, 'MosaicVirus')\n",
        "#os.mkdir(test_MosaicVirus_dir)"
      ],
      "execution_count": 0,
      "outputs": []
    },
    {
      "cell_type": "code",
      "metadata": {
        "id": "I28PIZxEHVl4",
        "colab_type": "code",
        "colab": {}
      },
      "source": [
        "validation_MosaicVirus_dir = os.path.join(validation_dir, 'MosaicVirus')\n",
        "#os.mkdir(validation_MosaicVirus_dir)"
      ],
      "execution_count": 0,
      "outputs": []
    },
    {
      "cell_type": "code",
      "metadata": {
        "id": "OZed43fgHVil",
        "colab_type": "code",
        "colab": {}
      },
      "source": [
        "train_SeptoriaLeafSpot_dir = os.path.join(train_dir, 'SeptoriaLeafSpot')\n",
        "#os.mkdir(train_SeptoriaLeafSpot_dir)"
      ],
      "execution_count": 0,
      "outputs": []
    },
    {
      "cell_type": "code",
      "metadata": {
        "id": "DP3rYzDzHVfD",
        "colab_type": "code",
        "colab": {}
      },
      "source": [
        "test_SeptoriaLeafSpot_dir = os.path.join(test_dir, 'SeptoriaLeafSpot')\n",
        "#os.mkdir(test_SeptoriaLeafSpot_dir)"
      ],
      "execution_count": 0,
      "outputs": []
    },
    {
      "cell_type": "code",
      "metadata": {
        "id": "VoKhML9JHVWh",
        "colab_type": "code",
        "colab": {}
      },
      "source": [
        "validation_SeptoriaLeafSpot_dir = os.path.join(validation_dir, 'SeptoriaLeafSpot')\n",
        "#os.mkdir(validation_SeptoriaLeafSpot_dir)"
      ],
      "execution_count": 0,
      "outputs": []
    },
    {
      "cell_type": "code",
      "metadata": {
        "id": "KnuObPvMIYa6",
        "colab_type": "code",
        "colab": {}
      },
      "source": [
        "train_TargetSpot_dir = os.path.join(train_dir, 'TargetSpot')\n",
        "#os.mkdir(train_TargetSpot_dir)"
      ],
      "execution_count": 0,
      "outputs": []
    },
    {
      "cell_type": "code",
      "metadata": {
        "id": "vWE8sS1hIYWh",
        "colab_type": "code",
        "colab": {}
      },
      "source": [
        "test_TargetSpot_dir = os.path.join(test_dir, 'TargetSpot')\n",
        "#os.mkdir(test_TargetSpot_dir)"
      ],
      "execution_count": 0,
      "outputs": []
    },
    {
      "cell_type": "code",
      "metadata": {
        "id": "Wuuw_rEuIYT4",
        "colab_type": "code",
        "colab": {}
      },
      "source": [
        "validation_TargetSpot_dir = os.path.join(validation_dir, 'TargetSpot')\n",
        "#os.mkdir(validation_TargetSpot_dir)"
      ],
      "execution_count": 0,
      "outputs": []
    },
    {
      "cell_type": "code",
      "metadata": {
        "id": "ErbI3fjLIYQ3",
        "colab_type": "code",
        "colab": {}
      },
      "source": [
        "train_YellowLeaf_dir = os.path.join(train_dir, 'YellowLeaf')\n",
        "#os.mkdir(train_YellowLeaf_dir)"
      ],
      "execution_count": 0,
      "outputs": []
    },
    {
      "cell_type": "code",
      "metadata": {
        "id": "ACt5lXnnI07e",
        "colab_type": "code",
        "colab": {}
      },
      "source": [
        "test_YellowLeaf_dir = os.path.join(test_dir, 'YellowLeaf')\n",
        "#os.mkdir(test_YellowLeaf_dir)"
      ],
      "execution_count": 0,
      "outputs": []
    },
    {
      "cell_type": "code",
      "metadata": {
        "id": "BRs8XnAxI0zl",
        "colab_type": "code",
        "colab": {}
      },
      "source": [
        "validation_YellowLeaf_dir = os.path.join(validation_dir, 'YellowLeaf')\n",
        "#os.mkdir(validation_YellowLeaf_dir)"
      ],
      "execution_count": 0,
      "outputs": []
    },
    {
      "cell_type": "code",
      "metadata": {
        "id": "4bj6tMzeI0xn",
        "colab_type": "code",
        "outputId": "d88a296a-29a2-4e79-f482-88ffbed2b421",
        "colab": {
          "base_uri": "https://localhost:8080/",
          "height": 80
        }
      },
      "source": [
        "from os import listdir\n",
        "from keras.preprocessing.image import load_img\n",
        "from keras.preprocessing.image import img_to_array\n",
        "from keras.applications.vgg16 import preprocess_input"
      ],
      "execution_count": 39,
      "outputs": [
        {
          "output_type": "stream",
          "text": [
            "Using TensorFlow backend.\n"
          ],
          "name": "stderr"
        },
        {
          "output_type": "display_data",
          "data": {
            "text/html": [
              "<p style=\"color: red;\">\n",
              "The default version of TensorFlow in Colab will soon switch to TensorFlow 2.x.<br>\n",
              "We recommend you <a href=\"https://www.tensorflow.org/guide/migrate\" target=\"_blank\">upgrade</a> now \n",
              "or ensure your notebook will continue to use TensorFlow 1.x via the <code>%tensorflow_version 1.x</code> magic:\n",
              "<a href=\"https://colab.research.google.com/notebooks/tensorflow_version.ipynb\" target=\"_blank\">more info</a>.</p>\n"
            ],
            "text/plain": [
              "<IPython.core.display.HTML object>"
            ]
          },
          "metadata": {
            "tags": []
          }
        }
      ]
    },
    {
      "cell_type": "code",
      "metadata": {
        "id": "GrBuoWmYSRnR",
        "colab_type": "code",
        "colab": {}
      },
      "source": [
        "fnames=['Nitrogen ({}).JPG'.format(i+1) for i in range(216)] \n",
        "for fname in fnames:\n",
        "  src= os.path.join(original_dataset_dir, fname)\n",
        "  dst= os.path.join(train_Nitrogen_dir,fname)\n",
        "  shutil.copyfile(src, dst)"
      ],
      "execution_count": 0,
      "outputs": []
    },
    {
      "cell_type": "code",
      "metadata": {
        "id": "qbiKK7dhSRX7",
        "colab_type": "code",
        "outputId": "ce7c38dd-d1fc-4aa0-8754-0898441bfac6",
        "colab": {
          "base_uri": "https://localhost:8080/",
          "height": 34
        }
      },
      "source": [
        "print('total Nitrogen images:', len(os.listdir(train_Nitrogen_dir)))"
      ],
      "execution_count": 0,
      "outputs": [
        {
          "output_type": "stream",
          "text": [
            "total Nitrogen images: 216\n"
          ],
          "name": "stdout"
        }
      ]
    },
    {
      "cell_type": "code",
      "metadata": {
        "id": "BV_TsI6fKwzP",
        "colab_type": "code",
        "colab": {}
      },
      "source": [
        "fnames=['Nitrogen ({}).JPG'.format(i) for i in range(216,243)] \n",
        "for fname in fnames:\n",
        "  src= os.path.join(original_dataset_dir, fname)\n",
        "  dst= os.path.join(validation_Nitrogen_dir,fname)\n",
        "  shutil.copyfile(src, dst)"
      ],
      "execution_count": 0,
      "outputs": []
    },
    {
      "cell_type": "code",
      "metadata": {
        "id": "7mlehUnNKwx_",
        "colab_type": "code",
        "colab": {}
      },
      "source": [
        "fnames=['Nitrogen ({}).JPG'.format(i) for i in range(243,270)] \n",
        "for fname in fnames:\n",
        "  src= os.path.join(original_dataset_dir, fname)\n",
        "  dst= os.path.join(test_Nitrogen_dir,fname)\n",
        "  shutil.copyfile(src, dst)"
      ],
      "execution_count": 0,
      "outputs": []
    },
    {
      "cell_type": "code",
      "metadata": {
        "id": "U2_R3ULyKwuO",
        "colab_type": "code",
        "colab": {}
      },
      "source": [
        "fnames=['BacterialSpot ({}).JPG'.format(i+1) for i in range(1701)] \n",
        "for fname in fnames:\n",
        "  src= os.path.join(original_dataset_dir, fname)\n",
        "  dst= os.path.join(train_BacterialSpot_dir,fname)\n",
        "  shutil.copyfile(src, dst)"
      ],
      "execution_count": 0,
      "outputs": []
    },
    {
      "cell_type": "code",
      "metadata": {
        "id": "Ev0Rdo4lKwrI",
        "colab_type": "code",
        "colab": {}
      },
      "source": [
        "fnames=['BacterialSpot ({}).JPG'.format(i) for i in range(1701,1913)] \n",
        "for fname in fnames:\n",
        "  src= os.path.join(original_dataset_dir, fname)\n",
        "  dst= os.path.join(validation_BacterialSpot_dir,fname)\n",
        "  shutil.copyfile(src, dst)"
      ],
      "execution_count": 0,
      "outputs": []
    },
    {
      "cell_type": "code",
      "metadata": {
        "id": "gjLRR6ldZ9no",
        "colab_type": "code",
        "colab": {}
      },
      "source": [
        "fnames=['BacterialSpot ({}).JPG'.format(i) for i in range(1913,2125)] \n",
        "for fname in fnames:\n",
        "  src= os.path.join(original_dataset_dir, fname)\n",
        "  dst= os.path.join(test_BacterialSpot_dir,fname)\n",
        "  shutil.copyfile(src, dst)"
      ],
      "execution_count": 0,
      "outputs": []
    },
    {
      "cell_type": "code",
      "metadata": {
        "id": "eH7MhjKMZ9GF",
        "colab_type": "code",
        "colab": {}
      },
      "source": [
        "fnames=['EarlyBlight ({}).JPG'.format(i+1) for i in range(800)] \n",
        "for fname in fnames:\n",
        "  src= os.path.join(original_dataset_dir, fname)\n",
        "  dst= os.path.join(train_EarlyBlight_dir,fname)\n",
        "  shutil.copyfile(src, dst)"
      ],
      "execution_count": 0,
      "outputs": []
    },
    {
      "cell_type": "code",
      "metadata": {
        "id": "lSBIgbRSbdBq",
        "colab_type": "code",
        "colab": {}
      },
      "source": [
        "fnames=['EarlyBlight ({}).JPG'.format(i) for i in range(800,900)] \n",
        "for fname in fnames:\n",
        "  src= os.path.join(original_dataset_dir, fname)\n",
        "  dst= os.path.join(validation_EarlyBlight_dir,fname)\n",
        "  shutil.copyfile(src, dst)"
      ],
      "execution_count": 0,
      "outputs": []
    },
    {
      "cell_type": "code",
      "metadata": {
        "id": "FECosxOKbc9z",
        "colab_type": "code",
        "colab": {}
      },
      "source": [
        "fnames=['EarlyBlight ({}).JPG'.format(i) for i in range(900,1000)] \n",
        "for fname in fnames:\n",
        "  src= os.path.join(original_dataset_dir, fname)\n",
        "  dst= os.path.join(test_EarlyBlight_dir,fname)\n",
        "  shutil.copyfile(src, dst)"
      ],
      "execution_count": 0,
      "outputs": []
    },
    {
      "cell_type": "code",
      "metadata": {
        "id": "_JsDPcN-bc7V",
        "colab_type": "code",
        "colab": {}
      },
      "source": [
        "fnames=['Healthy ({}).JPG'.format(i+1) for i in range(1272)] \n",
        "for fname in fnames:\n",
        "  src= os.path.join(original_dataset_dir, fname)\n",
        "  dst= os.path.join(train_Healthy_dir,fname)\n",
        "  shutil.copyfile(src, dst)"
      ],
      "execution_count": 0,
      "outputs": []
    },
    {
      "cell_type": "code",
      "metadata": {
        "id": "ohS-j3GUbc4W",
        "colab_type": "code",
        "colab": {}
      },
      "source": [
        "fnames=['Healthy ({}).JPG'.format(i) for i in range(1272,1431)] \n",
        "for fname in fnames:\n",
        "  src= os.path.join(original_dataset_dir, fname)\n",
        "  dst= os.path.join(validation_Healthy_dir,fname)\n",
        "  shutil.copyfile(src, dst)"
      ],
      "execution_count": 0,
      "outputs": []
    },
    {
      "cell_type": "code",
      "metadata": {
        "id": "OFWdBqEscPF-",
        "colab_type": "code",
        "colab": {}
      },
      "source": [
        "fnames=['Healthy ({}).JPG'.format(i) for i in range(1431,1590)] \n",
        "for fname in fnames:\n",
        "  src= os.path.join(original_dataset_dir, fname)\n",
        "  dst= os.path.join(test_Healthy_dir,fname)\n",
        "  shutil.copyfile(src, dst)"
      ],
      "execution_count": 0,
      "outputs": []
    },
    {
      "cell_type": "code",
      "metadata": {
        "id": "ZparKvh9cQGm",
        "colab_type": "code",
        "colab": {
          "base_uri": "https://localhost:8080/",
          "height": 316
        },
        "outputId": "6218b538-ea34-49e4-f60e-d72eb334584a"
      },
      "source": [
        "fnames=['LateBlight ({}).JPG'.format(i+1) for i in range(1526)] \n",
        "for fname in fnames:\n",
        "  src= os.path.join(original_dataset_dir, fname)\n",
        "  dst= os.path.join(train_LateBlight_dir,fname)\n",
        "  shutil.copyfile(src, dst)"
      ],
      "execution_count": 60,
      "outputs": [
        {
          "output_type": "error",
          "ename": "FileNotFoundError",
          "evalue": "ignored",
          "traceback": [
            "\u001b[0;31m---------------------------------------------------------------------------\u001b[0m",
            "\u001b[0;31mFileNotFoundError\u001b[0m                         Traceback (most recent call last)",
            "\u001b[0;32m<ipython-input-60-939d25f51232>\u001b[0m in \u001b[0;36m<module>\u001b[0;34m()\u001b[0m\n\u001b[1;32m      3\u001b[0m   \u001b[0msrc\u001b[0m\u001b[0;34m=\u001b[0m \u001b[0mos\u001b[0m\u001b[0;34m.\u001b[0m\u001b[0mpath\u001b[0m\u001b[0;34m.\u001b[0m\u001b[0mjoin\u001b[0m\u001b[0;34m(\u001b[0m\u001b[0moriginal_dataset_dir\u001b[0m\u001b[0;34m,\u001b[0m \u001b[0mfname\u001b[0m\u001b[0;34m)\u001b[0m\u001b[0;34m\u001b[0m\u001b[0;34m\u001b[0m\u001b[0m\n\u001b[1;32m      4\u001b[0m   \u001b[0mdst\u001b[0m\u001b[0;34m=\u001b[0m \u001b[0mos\u001b[0m\u001b[0;34m.\u001b[0m\u001b[0mpath\u001b[0m\u001b[0;34m.\u001b[0m\u001b[0mjoin\u001b[0m\u001b[0;34m(\u001b[0m\u001b[0mtrain_LateBlight_dir\u001b[0m\u001b[0;34m,\u001b[0m\u001b[0mfname\u001b[0m\u001b[0;34m)\u001b[0m\u001b[0;34m\u001b[0m\u001b[0;34m\u001b[0m\u001b[0m\n\u001b[0;32m----> 5\u001b[0;31m   \u001b[0mshutil\u001b[0m\u001b[0;34m.\u001b[0m\u001b[0mcopyfile\u001b[0m\u001b[0;34m(\u001b[0m\u001b[0msrc\u001b[0m\u001b[0;34m,\u001b[0m \u001b[0mdst\u001b[0m\u001b[0;34m)\u001b[0m\u001b[0;34m\u001b[0m\u001b[0;34m\u001b[0m\u001b[0m\n\u001b[0m",
            "\u001b[0;32m/usr/lib/python3.6/shutil.py\u001b[0m in \u001b[0;36mcopyfile\u001b[0;34m(src, dst, follow_symlinks)\u001b[0m\n\u001b[1;32m    118\u001b[0m         \u001b[0mos\u001b[0m\u001b[0;34m.\u001b[0m\u001b[0msymlink\u001b[0m\u001b[0;34m(\u001b[0m\u001b[0mos\u001b[0m\u001b[0;34m.\u001b[0m\u001b[0mreadlink\u001b[0m\u001b[0;34m(\u001b[0m\u001b[0msrc\u001b[0m\u001b[0;34m)\u001b[0m\u001b[0;34m,\u001b[0m \u001b[0mdst\u001b[0m\u001b[0;34m)\u001b[0m\u001b[0;34m\u001b[0m\u001b[0;34m\u001b[0m\u001b[0m\n\u001b[1;32m    119\u001b[0m     \u001b[0;32melse\u001b[0m\u001b[0;34m:\u001b[0m\u001b[0;34m\u001b[0m\u001b[0;34m\u001b[0m\u001b[0m\n\u001b[0;32m--> 120\u001b[0;31m         \u001b[0;32mwith\u001b[0m \u001b[0mopen\u001b[0m\u001b[0;34m(\u001b[0m\u001b[0msrc\u001b[0m\u001b[0;34m,\u001b[0m \u001b[0;34m'rb'\u001b[0m\u001b[0;34m)\u001b[0m \u001b[0;32mas\u001b[0m \u001b[0mfsrc\u001b[0m\u001b[0;34m:\u001b[0m\u001b[0;34m\u001b[0m\u001b[0;34m\u001b[0m\u001b[0m\n\u001b[0m\u001b[1;32m    121\u001b[0m             \u001b[0;32mwith\u001b[0m \u001b[0mopen\u001b[0m\u001b[0;34m(\u001b[0m\u001b[0mdst\u001b[0m\u001b[0;34m,\u001b[0m \u001b[0;34m'wb'\u001b[0m\u001b[0;34m)\u001b[0m \u001b[0;32mas\u001b[0m \u001b[0mfdst\u001b[0m\u001b[0;34m:\u001b[0m\u001b[0;34m\u001b[0m\u001b[0;34m\u001b[0m\u001b[0m\n\u001b[1;32m    122\u001b[0m                 \u001b[0mcopyfileobj\u001b[0m\u001b[0;34m(\u001b[0m\u001b[0mfsrc\u001b[0m\u001b[0;34m,\u001b[0m \u001b[0mfdst\u001b[0m\u001b[0;34m)\u001b[0m\u001b[0;34m\u001b[0m\u001b[0;34m\u001b[0m\u001b[0m\n",
            "\u001b[0;31mFileNotFoundError\u001b[0m: [Errno 2] No such file or directory: '/content/drive/My Drive/data/tomato/train/LateBlight (10).JPG'"
          ]
        }
      ]
    },
    {
      "cell_type": "code",
      "metadata": {
        "id": "0cq7A6XkcQDk",
        "colab_type": "code",
        "colab": {}
      },
      "source": [
        "fnames=['LateBlight ({}).JPG'.format(i) for i in range(1529,1717)] \n",
        "for fname in fnames:\n",
        "  src= os.path.join(original_dataset_dir, fname)\n",
        "  dst= os.path.join(test_LateBlight_dir,fname)\n",
        "  shutil.copyfile(src, dst)"
      ],
      "execution_count": 0,
      "outputs": []
    },
    {
      "cell_type": "code",
      "metadata": {
        "id": "y8l-smxreKJf",
        "colab_type": "code",
        "outputId": "85c32375-b8de-4d7a-d9c7-30f431a1e748",
        "colab": {
          "base_uri": "https://localhost:8080/",
          "height": 316
        }
      },
      "source": [
        "fnames=['LateBlight ({}).JPG'.format(i) for i in range(1717,1907)] \n",
        "for fname in fnames:\n",
        "  src= os.path.join(original_dataset_dir, fname)\n",
        "  dst= os.path.join(validation_LateBlight_dir,fname)\n",
        "  shutil.copyfile(src, dst)"
      ],
      "execution_count": 43,
      "outputs": [
        {
          "output_type": "error",
          "ename": "FileNotFoundError",
          "evalue": "ignored",
          "traceback": [
            "\u001b[0;31m---------------------------------------------------------------------------\u001b[0m",
            "\u001b[0;31mFileNotFoundError\u001b[0m                         Traceback (most recent call last)",
            "\u001b[0;32m<ipython-input-43-c77f975bc84e>\u001b[0m in \u001b[0;36m<module>\u001b[0;34m()\u001b[0m\n\u001b[1;32m      3\u001b[0m   \u001b[0msrc\u001b[0m\u001b[0;34m=\u001b[0m \u001b[0mos\u001b[0m\u001b[0;34m.\u001b[0m\u001b[0mpath\u001b[0m\u001b[0;34m.\u001b[0m\u001b[0mjoin\u001b[0m\u001b[0;34m(\u001b[0m\u001b[0moriginal_dataset_dir\u001b[0m\u001b[0;34m,\u001b[0m \u001b[0mfname\u001b[0m\u001b[0;34m)\u001b[0m\u001b[0;34m\u001b[0m\u001b[0;34m\u001b[0m\u001b[0m\n\u001b[1;32m      4\u001b[0m   \u001b[0mdst\u001b[0m\u001b[0;34m=\u001b[0m \u001b[0mos\u001b[0m\u001b[0;34m.\u001b[0m\u001b[0mpath\u001b[0m\u001b[0;34m.\u001b[0m\u001b[0mjoin\u001b[0m\u001b[0;34m(\u001b[0m\u001b[0mvalidation_LateBlight_dir\u001b[0m\u001b[0;34m,\u001b[0m\u001b[0mfname\u001b[0m\u001b[0;34m)\u001b[0m\u001b[0;34m\u001b[0m\u001b[0;34m\u001b[0m\u001b[0m\n\u001b[0;32m----> 5\u001b[0;31m   \u001b[0mshutil\u001b[0m\u001b[0;34m.\u001b[0m\u001b[0mcopyfile\u001b[0m\u001b[0;34m(\u001b[0m\u001b[0msrc\u001b[0m\u001b[0;34m,\u001b[0m \u001b[0mdst\u001b[0m\u001b[0;34m)\u001b[0m\u001b[0;34m\u001b[0m\u001b[0;34m\u001b[0m\u001b[0m\n\u001b[0m",
            "\u001b[0;32m/usr/lib/python3.6/shutil.py\u001b[0m in \u001b[0;36mcopyfile\u001b[0;34m(src, dst, follow_symlinks)\u001b[0m\n\u001b[1;32m    118\u001b[0m         \u001b[0mos\u001b[0m\u001b[0;34m.\u001b[0m\u001b[0msymlink\u001b[0m\u001b[0;34m(\u001b[0m\u001b[0mos\u001b[0m\u001b[0;34m.\u001b[0m\u001b[0mreadlink\u001b[0m\u001b[0;34m(\u001b[0m\u001b[0msrc\u001b[0m\u001b[0;34m)\u001b[0m\u001b[0;34m,\u001b[0m \u001b[0mdst\u001b[0m\u001b[0;34m)\u001b[0m\u001b[0;34m\u001b[0m\u001b[0;34m\u001b[0m\u001b[0m\n\u001b[1;32m    119\u001b[0m     \u001b[0;32melse\u001b[0m\u001b[0;34m:\u001b[0m\u001b[0;34m\u001b[0m\u001b[0;34m\u001b[0m\u001b[0m\n\u001b[0;32m--> 120\u001b[0;31m         \u001b[0;32mwith\u001b[0m \u001b[0mopen\u001b[0m\u001b[0;34m(\u001b[0m\u001b[0msrc\u001b[0m\u001b[0;34m,\u001b[0m \u001b[0;34m'rb'\u001b[0m\u001b[0;34m)\u001b[0m \u001b[0;32mas\u001b[0m \u001b[0mfsrc\u001b[0m\u001b[0;34m:\u001b[0m\u001b[0;34m\u001b[0m\u001b[0;34m\u001b[0m\u001b[0m\n\u001b[0m\u001b[1;32m    121\u001b[0m             \u001b[0;32mwith\u001b[0m \u001b[0mopen\u001b[0m\u001b[0;34m(\u001b[0m\u001b[0mdst\u001b[0m\u001b[0;34m,\u001b[0m \u001b[0;34m'wb'\u001b[0m\u001b[0;34m)\u001b[0m \u001b[0;32mas\u001b[0m \u001b[0mfdst\u001b[0m\u001b[0;34m:\u001b[0m\u001b[0;34m\u001b[0m\u001b[0;34m\u001b[0m\u001b[0m\n\u001b[1;32m    122\u001b[0m                 \u001b[0mcopyfileobj\u001b[0m\u001b[0;34m(\u001b[0m\u001b[0mfsrc\u001b[0m\u001b[0;34m,\u001b[0m \u001b[0mfdst\u001b[0m\u001b[0;34m)\u001b[0m\u001b[0;34m\u001b[0m\u001b[0;34m\u001b[0m\u001b[0m\n",
            "\u001b[0;31mFileNotFoundError\u001b[0m: [Errno 2] No such file or directory: '/content/drive/My Drive/data/tomato/train/LateBlight (1717).JPG'"
          ]
        }
      ]
    },
    {
      "cell_type": "code",
      "metadata": {
        "id": "M1p2EfakecM1",
        "colab_type": "code",
        "colab": {}
      },
      "source": [
        "fnames=['LeafMold ({}).JPG'.format(i+1) for i in range(761)] \n",
        "for fname in fnames:\n",
        "  src= os.path.join(original_dataset_dir, fname)\n",
        "  dst= os.path.join(train_LeafMold_dir,fname)\n",
        "  shutil.copyfile(src, dst)"
      ],
      "execution_count": 0,
      "outputs": []
    },
    {
      "cell_type": "code",
      "metadata": {
        "id": "mfrsNq_Hfga_",
        "colab_type": "code",
        "colab": {}
      },
      "source": [
        "fnames=['LeafMold ({}).JPG'.format(i) for i in range(761,856)] \n",
        "for fname in fnames:\n",
        "  src= os.path.join(original_dataset_dir, fname)\n",
        "  dst= os.path.join(validation_LeafMold_dir,fname)\n",
        "  shutil.copyfile(src, dst)"
      ],
      "execution_count": 0,
      "outputs": []
    },
    {
      "cell_type": "code",
      "metadata": {
        "id": "rourWz43fr-N",
        "colab_type": "code",
        "colab": {}
      },
      "source": [
        "fnames=['LeafMold ({}).JPG'.format(i) for i in range(856,951)] \n",
        "for fname in fnames:\n",
        "  src= os.path.join(original_dataset_dir, fname)\n",
        "  dst= os.path.join(test_LeafMold_dir,fname)\n",
        "  shutil.copyfile(src, dst)"
      ],
      "execution_count": 0,
      "outputs": []
    },
    {
      "cell_type": "code",
      "metadata": {
        "id": "eVUl8eRCfwHd",
        "colab_type": "code",
        "colab": {}
      },
      "source": [
        "fnames=['MosaicVirus ({}).JPG'.format(i+1) for i in range(298)] \n",
        "for fname in fnames:\n",
        "  src= os.path.join(original_dataset_dir, fname)\n",
        "  dst= os.path.join(train_MosaicVirus_dir,fname)\n",
        "  shutil.copyfile(src, dst)"
      ],
      "execution_count": 0,
      "outputs": []
    },
    {
      "cell_type": "code",
      "metadata": {
        "id": "8oQ3PIqSgNv3",
        "colab_type": "code",
        "colab": {}
      },
      "source": [
        "fnames=['MosaicVirus ({}).JPG'.format(i) for i in range(298,335)] \n",
        "for fname in fnames:\n",
        "  src= os.path.join(original_dataset_dir, fname)\n",
        "  dst= os.path.join(test_MosaicVirus_dir,fname)\n",
        "  shutil.copyfile(src, dst)"
      ],
      "execution_count": 0,
      "outputs": []
    },
    {
      "cell_type": "code",
      "metadata": {
        "id": "vpD5jpcIgcGd",
        "colab_type": "code",
        "colab": {}
      },
      "source": [
        "fnames=['MosaicVirus ({}).JPG'.format(i) for i in range(335,372)] \n",
        "for fname in fnames:\n",
        "  src= os.path.join(original_dataset_dir, fname)\n",
        "  dst= os.path.join(validation_MosaicVirus_dir,fname)\n",
        "  shutil.copyfile(src, dst)"
      ],
      "execution_count": 0,
      "outputs": []
    },
    {
      "cell_type": "code",
      "metadata": {
        "id": "nFZW38zigqjt",
        "colab_type": "code",
        "colab": {}
      },
      "source": [
        "fnames=['SeptoriaLeafSpot ({}).JPG'.format(i+1) for i in range(1416)] \n",
        "for fname in fnames:\n",
        "  src= os.path.join(original_dataset_dir, fname)\n",
        "  dst= os.path.join(train_SeptoriaLeafSpot_dir,fname)\n",
        "  shutil.copyfile(src, dst)"
      ],
      "execution_count": 0,
      "outputs": []
    },
    {
      "cell_type": "code",
      "metadata": {
        "id": "DJUaG11kg60d",
        "colab_type": "code",
        "colab": {}
      },
      "source": [
        "fnames=['SeptoriaLeafSpot ({}).JPG'.format(i) for i in range(1416,1593)] \n",
        "for fname in fnames:\n",
        "  src= os.path.join(original_dataset_dir, fname)\n",
        "  dst= os.path.join(test_SeptoriaLeafSpot_dir,fname)\n",
        "  shutil.copyfile(src, dst)"
      ],
      "execution_count": 0,
      "outputs": []
    },
    {
      "cell_type": "code",
      "metadata": {
        "id": "C7RPEDnKhDkt",
        "colab_type": "code",
        "colab": {}
      },
      "source": [
        "fnames=['SeptoriaLeafSpot ({}).JPG'.format(i) for i in range(1593,1770)] \n",
        "for fname in fnames:\n",
        "  src= os.path.join(original_dataset_dir, fname)\n",
        "  dst= os.path.join(validation_SeptoriaLeafSpot_dir,fname)\n",
        "  shutil.copyfile(src, dst)"
      ],
      "execution_count": 0,
      "outputs": []
    },
    {
      "cell_type": "code",
      "metadata": {
        "id": "Nhs5j5ZPhO89",
        "colab_type": "code",
        "colab": {}
      },
      "source": [
        "fnames=['TargetSpot ({}).JPG'.format(i+1) for i in range(1123)] \n",
        "for fname in fnames:\n",
        "  src= os.path.join(original_dataset_dir, fname)\n",
        "  dst= os.path.join(train_TargetSpot_dir,fname)\n",
        "  shutil.copyfile(src, dst)"
      ],
      "execution_count": 0,
      "outputs": []
    },
    {
      "cell_type": "code",
      "metadata": {
        "id": "F5OcB2XDhXSw",
        "colab_type": "code",
        "colab": {}
      },
      "source": [
        "fnames=['TargetSpot ({}).JPG'.format(i) for i in range(1123,1263)] \n",
        "for fname in fnames:\n",
        "  src= os.path.join(original_dataset_dir, fname)\n",
        "  dst= os.path.join(test_TargetSpot_dir,fname)\n",
        "  shutil.copyfile(src, dst)"
      ],
      "execution_count": 0,
      "outputs": []
    },
    {
      "cell_type": "code",
      "metadata": {
        "id": "YEDI78k1hkdt",
        "colab_type": "code",
        "colab": {}
      },
      "source": [
        "fnames=['TargetSpot ({}).JPG'.format(i) for i in range(1263,1403)] \n",
        "for fname in fnames:\n",
        "  src= os.path.join(original_dataset_dir, fname)\n",
        "  dst= os.path.join(validation_TargetSpot_dir,fname)\n",
        "  shutil.copyfile(src, dst)"
      ],
      "execution_count": 0,
      "outputs": []
    },
    {
      "cell_type": "code",
      "metadata": {
        "id": "WiJ3xwBBhuGN",
        "colab_type": "code",
        "colab": {}
      },
      "source": [
        "fnames=['YellowLeaf ({}).JPG'.format(i) for i in range(2676)] \n",
        "for fname in fnames:\n",
        "  src= os.path.join(original_dataset_dir, fname)\n",
        "  dst= os.path.join(train_YellowLeaf_dir,fname)\n",
        "  shutil.copyfile(src, dst)"
      ],
      "execution_count": 0,
      "outputs": []
    },
    {
      "cell_type": "code",
      "metadata": {
        "id": "VZTLUG1WiI7N",
        "colab_type": "code",
        "colab": {}
      },
      "source": [
        "fnames=['YellowLeaf ({}).JPG'.format(i) for i in range(2676,3010)] \n",
        "for fname in fnames:\n",
        "  src= os.path.join(original_dataset_dir, fname)\n",
        "  dst= os.path.join(test_YellowLeaf_dir,fname)\n",
        "  shutil.copyfile(src, dst)"
      ],
      "execution_count": 0,
      "outputs": []
    },
    {
      "cell_type": "code",
      "metadata": {
        "id": "UaneAKgRiQYt",
        "colab_type": "code",
        "colab": {}
      },
      "source": [
        "fnames=['YellowLeaf ({}).JPG'.format(i) for i in range(3010,3344)] \n",
        "for fname in fnames:\n",
        "  src= os.path.join(original_dataset_dir, fname)\n",
        "  dst= os.path.join(validation_YellowLeaf_dir,fname)\n",
        "  shutil.copyfile(src, dst)"
      ],
      "execution_count": 0,
      "outputs": []
    },
    {
      "cell_type": "code",
      "metadata": {
        "id": "BaIyea1IiXt9",
        "colab_type": "code",
        "colab": {}
      },
      "source": [
        "from keras import layers\n",
        "from keras import models"
      ],
      "execution_count": 0,
      "outputs": []
    },
    {
      "cell_type": "code",
      "metadata": {
        "id": "d4sSq4xseG3k",
        "colab_type": "code",
        "colab": {
          "base_uri": "https://localhost:8080/",
          "height": 173
        },
        "outputId": "0dd2238e-f57e-4e1d-d1e4-96e6b46ed122"
      },
      "source": [
        "model = models.Sequential()\n",
        "model.add(layers.Conv2D(32, (3,3), activation='relu', input_shape=(150,150,3)))\n",
        "model.add(layers.MaxPooling2D((2,2)))\n",
        "model.add(layers.Conv2D(64, (3,3), activation='relu'))\n",
        "model.add(layers.MaxPooling2D((2,2)))\n",
        "model.add(layers.Conv2D(128, (3,3), activation='relu'))\n",
        "model.add(layers.MaxPooling2D((2,2)))\n",
        "model.add(layers.Conv2D(128, (3,3), activation='relu'))\n",
        "model.add(layers.MaxPooling2D((2,2)))\n",
        "model.add(layers.Flatten())\n",
        "model.add(layers.Dense(512, activation='relu'))\n",
        "model.add(layers.Dense(10, activation='softmax'))"
      ],
      "execution_count": 54,
      "outputs": [
        {
          "output_type": "stream",
          "text": [
            "WARNING:tensorflow:From /usr/local/lib/python3.6/dist-packages/keras/backend/tensorflow_backend.py:66: The name tf.get_default_graph is deprecated. Please use tf.compat.v1.get_default_graph instead.\n",
            "\n",
            "WARNING:tensorflow:From /usr/local/lib/python3.6/dist-packages/keras/backend/tensorflow_backend.py:541: The name tf.placeholder is deprecated. Please use tf.compat.v1.placeholder instead.\n",
            "\n",
            "WARNING:tensorflow:From /usr/local/lib/python3.6/dist-packages/keras/backend/tensorflow_backend.py:4432: The name tf.random_uniform is deprecated. Please use tf.random.uniform instead.\n",
            "\n",
            "WARNING:tensorflow:From /usr/local/lib/python3.6/dist-packages/keras/backend/tensorflow_backend.py:4267: The name tf.nn.max_pool is deprecated. Please use tf.nn.max_pool2d instead.\n",
            "\n"
          ],
          "name": "stdout"
        }
      ]
    },
    {
      "cell_type": "code",
      "metadata": {
        "id": "DizFgIS6gzSF",
        "colab_type": "code",
        "outputId": "183ee505-fa3b-444e-dd52-6c9d8fd46245",
        "colab": {
          "base_uri": "https://localhost:8080/",
          "height": 527
        }
      },
      "source": [
        "model.summary()"
      ],
      "execution_count": 55,
      "outputs": [
        {
          "output_type": "stream",
          "text": [
            "Model: \"sequential_1\"\n",
            "_________________________________________________________________\n",
            "Layer (type)                 Output Shape              Param #   \n",
            "=================================================================\n",
            "conv2d_1 (Conv2D)            (None, 148, 148, 32)      896       \n",
            "_________________________________________________________________\n",
            "max_pooling2d_1 (MaxPooling2 (None, 74, 74, 32)        0         \n",
            "_________________________________________________________________\n",
            "conv2d_2 (Conv2D)            (None, 72, 72, 64)        18496     \n",
            "_________________________________________________________________\n",
            "max_pooling2d_2 (MaxPooling2 (None, 36, 36, 64)        0         \n",
            "_________________________________________________________________\n",
            "conv2d_3 (Conv2D)            (None, 34, 34, 128)       73856     \n",
            "_________________________________________________________________\n",
            "max_pooling2d_3 (MaxPooling2 (None, 17, 17, 128)       0         \n",
            "_________________________________________________________________\n",
            "conv2d_4 (Conv2D)            (None, 15, 15, 128)       147584    \n",
            "_________________________________________________________________\n",
            "max_pooling2d_4 (MaxPooling2 (None, 7, 7, 128)         0         \n",
            "_________________________________________________________________\n",
            "flatten_1 (Flatten)          (None, 6272)              0         \n",
            "_________________________________________________________________\n",
            "dense_1 (Dense)              (None, 512)               3211776   \n",
            "_________________________________________________________________\n",
            "dense_2 (Dense)              (None, 10)                5130      \n",
            "=================================================================\n",
            "Total params: 3,457,738\n",
            "Trainable params: 3,457,738\n",
            "Non-trainable params: 0\n",
            "_________________________________________________________________\n"
          ],
          "name": "stdout"
        }
      ]
    },
    {
      "cell_type": "code",
      "metadata": {
        "id": "1Q2GtiFTg7Jl",
        "colab_type": "code",
        "colab": {
          "base_uri": "https://localhost:8080/",
          "height": 85
        },
        "outputId": "6c191df1-01a7-4051-fae8-336d2a14f7dd"
      },
      "source": [
        "from keras import optimizers\n",
        "model.compile(loss='sparse_categorical_crossentropy', optimizer=optimizers.Adam(lr=0.01), metrics=['accuracy'])"
      ],
      "execution_count": 56,
      "outputs": [
        {
          "output_type": "stream",
          "text": [
            "WARNING:tensorflow:From /usr/local/lib/python3.6/dist-packages/keras/optimizers.py:793: The name tf.train.Optimizer is deprecated. Please use tf.compat.v1.train.Optimizer instead.\n",
            "\n",
            "WARNING:tensorflow:From /usr/local/lib/python3.6/dist-packages/keras/backend/tensorflow_backend.py:3622: The name tf.log is deprecated. Please use tf.math.log instead.\n",
            "\n"
          ],
          "name": "stdout"
        }
      ]
    },
    {
      "cell_type": "code",
      "metadata": {
        "id": "6SopxP1IjCdU",
        "colab_type": "code",
        "colab": {}
      },
      "source": [
        "#this rescales all images by 1/255\n",
        "from keras.preprocessing.image import ImageDataGenerator\n",
        "train_datagen = ImageDataGenerator(rescale=1./255)\n",
        "test_datagen= ImageDataGenerator(rescale=1./255)"
      ],
      "execution_count": 0,
      "outputs": []
    },
    {
      "cell_type": "code",
      "metadata": {
        "id": "O5vzPQtjkv3v",
        "colab_type": "code",
        "outputId": "640b4b05-4133-4099-eb0a-abe60caaf153",
        "colab": {
          "base_uri": "https://localhost:8080/",
          "height": 51
        }
      },
      "source": [
        "#adding the train images to resize\n",
        "train_generator = train_datagen.flow_from_directory(\n",
        "    train_dir, target_size=(150, 150), batch_size=20, class_mode='sparse')\n",
        "validation_generator=test_datagen.flow_from_directory(\n",
        "    validation_dir, target_size=(150, 150), batch_size=20, class_mode='sparse'\n",
        ")"
      ],
      "execution_count": 58,
      "outputs": [
        {
          "output_type": "stream",
          "text": [
            "Found 10263 images belonging to 10 classes.\n",
            "Found 1281 images belonging to 10 classes.\n"
          ],
          "name": "stdout"
        }
      ]
    },
    {
      "cell_type": "code",
      "metadata": {
        "id": "n0PuJ3B2pmMt",
        "colab_type": "code",
        "outputId": "7d16dc1c-8108-4c4c-ecc5-39fc17078a61",
        "colab": {
          "base_uri": "https://localhost:8080/",
          "height": 1000
        }
      },
      "source": [
        "history= model.fit_generator(\n",
        "    train_generator, steps_per_epoch=100, epochs=30,\n",
        "    validation_data=validation_generator, validation_steps=50\n",
        ")"
      ],
      "execution_count": 59,
      "outputs": [
        {
          "output_type": "stream",
          "text": [
            "WARNING:tensorflow:From /usr/local/lib/python3.6/dist-packages/tensorflow_core/python/ops/math_grad.py:1424: where (from tensorflow.python.ops.array_ops) is deprecated and will be removed in a future version.\n",
            "Instructions for updating:\n",
            "Use tf.where in 2.0, which has the same broadcast rule as np.where\n",
            "WARNING:tensorflow:From /usr/local/lib/python3.6/dist-packages/keras/backend/tensorflow_backend.py:1033: The name tf.assign_add is deprecated. Please use tf.compat.v1.assign_add instead.\n",
            "\n",
            "WARNING:tensorflow:From /usr/local/lib/python3.6/dist-packages/keras/backend/tensorflow_backend.py:1020: The name tf.assign is deprecated. Please use tf.compat.v1.assign instead.\n",
            "\n",
            "WARNING:tensorflow:From /usr/local/lib/python3.6/dist-packages/keras/backend/tensorflow_backend.py:3005: The name tf.Session is deprecated. Please use tf.compat.v1.Session instead.\n",
            "\n",
            "Epoch 1/30\n",
            "WARNING:tensorflow:From /usr/local/lib/python3.6/dist-packages/keras/backend/tensorflow_backend.py:190: The name tf.get_default_session is deprecated. Please use tf.compat.v1.get_default_session instead.\n",
            "\n",
            "WARNING:tensorflow:From /usr/local/lib/python3.6/dist-packages/keras/backend/tensorflow_backend.py:197: The name tf.ConfigProto is deprecated. Please use tf.compat.v1.ConfigProto instead.\n",
            "\n",
            "WARNING:tensorflow:From /usr/local/lib/python3.6/dist-packages/keras/backend/tensorflow_backend.py:207: The name tf.global_variables is deprecated. Please use tf.compat.v1.global_variables instead.\n",
            "\n",
            "WARNING:tensorflow:From /usr/local/lib/python3.6/dist-packages/keras/backend/tensorflow_backend.py:216: The name tf.is_variable_initialized is deprecated. Please use tf.compat.v1.is_variable_initialized instead.\n",
            "\n",
            "WARNING:tensorflow:From /usr/local/lib/python3.6/dist-packages/keras/backend/tensorflow_backend.py:223: The name tf.variables_initializer is deprecated. Please use tf.compat.v1.variables_initializer instead.\n",
            "\n",
            "100/100 [==============================] - 700s 7s/step - loss: 11.5074 - acc: 0.2785 - val_loss: 11.9596 - val_acc: 0.2580\n",
            "Epoch 2/30\n",
            "100/100 [==============================] - 416s 4s/step - loss: 12.0080 - acc: 0.2550 - val_loss: 11.9941 - val_acc: 0.2559\n",
            "Epoch 3/30\n",
            "100/100 [==============================] - 446s 4s/step - loss: 12.0402 - acc: 0.2530 - val_loss: 11.8462 - val_acc: 0.2650\n",
            "Epoch 4/30\n",
            "100/100 [==============================] - 444s 4s/step - loss: 12.1530 - acc: 0.2460 - val_loss: 11.8627 - val_acc: 0.2640\n",
            "Epoch 5/30\n",
            "100/100 [==============================] - 457s 5s/step - loss: 11.7238 - acc: 0.2726 - val_loss: 11.8629 - val_acc: 0.2640\n",
            "Epoch 6/30\n",
            "100/100 [==============================] - 73s 732ms/step - loss: 11.8710 - acc: 0.2635 - val_loss: 11.8298 - val_acc: 0.2661\n",
            "Epoch 7/30\n",
            "100/100 [==============================] - 7s 75ms/step - loss: 12.0945 - acc: 0.2496 - val_loss: 11.8462 - val_acc: 0.2650\n",
            "Epoch 8/30\n",
            "100/100 [==============================] - 7s 74ms/step - loss: 12.0886 - acc: 0.2500 - val_loss: 12.0598 - val_acc: 0.2518\n",
            "Epoch 9/30\n",
            "100/100 [==============================] - 8s 81ms/step - loss: 11.5970 - acc: 0.2805 - val_loss: 12.0886 - val_acc: 0.2500\n",
            "Epoch 10/30\n",
            "100/100 [==============================] - 8s 77ms/step - loss: 11.9435 - acc: 0.2590 - val_loss: 11.7148 - val_acc: 0.2732\n",
            "Epoch 11/30\n",
            "100/100 [==============================] - 7s 74ms/step - loss: 11.7340 - acc: 0.2720 - val_loss: 12.1420 - val_acc: 0.2467\n",
            "Epoch 12/30\n",
            "100/100 [==============================] - 7s 74ms/step - loss: 11.7017 - acc: 0.2740 - val_loss: 11.8298 - val_acc: 0.2661\n",
            "Epoch 13/30\n",
            "100/100 [==============================] - 8s 76ms/step - loss: 12.0966 - acc: 0.2495 - val_loss: 11.8627 - val_acc: 0.2640\n",
            "Epoch 14/30\n",
            "100/100 [==============================] - 7s 73ms/step - loss: 11.9141 - acc: 0.2608 - val_loss: 11.8952 - val_acc: 0.2620\n",
            "Epoch 15/30\n",
            "100/100 [==============================] - 7s 74ms/step - loss: 12.0483 - acc: 0.2525 - val_loss: 11.7476 - val_acc: 0.2712\n",
            "Epoch 16/30\n",
            "100/100 [==============================] - 7s 75ms/step - loss: 12.0725 - acc: 0.2510 - val_loss: 12.1420 - val_acc: 0.2467\n",
            "Epoch 17/30\n",
            "100/100 [==============================] - 8s 77ms/step - loss: 11.8468 - acc: 0.2650 - val_loss: 11.8791 - val_acc: 0.2630\n",
            "Epoch 18/30\n",
            "100/100 [==============================] - 7s 74ms/step - loss: 11.9673 - acc: 0.2575 - val_loss: 11.9596 - val_acc: 0.2580\n",
            "Epoch 19/30\n",
            "100/100 [==============================] - 7s 74ms/step - loss: 11.7420 - acc: 0.2715 - val_loss: 11.8298 - val_acc: 0.2661\n",
            "Epoch 20/30\n",
            "100/100 [==============================] - 7s 74ms/step - loss: 12.0483 - acc: 0.2525 - val_loss: 11.9448 - val_acc: 0.2589\n",
            "Epoch 21/30\n",
            "100/100 [==============================] - 8s 76ms/step - loss: 11.9757 - acc: 0.2570 - val_loss: 11.8134 - val_acc: 0.2671\n",
            "Epoch 22/30\n",
            "100/100 [==============================] - 7s 75ms/step - loss: 12.1446 - acc: 0.2465 - val_loss: 12.0241 - val_acc: 0.2540\n",
            "Epoch 23/30\n",
            "100/100 [==============================] - 7s 73ms/step - loss: 11.8710 - acc: 0.2635 - val_loss: 11.9941 - val_acc: 0.2559\n",
            "Epoch 24/30\n",
            "100/100 [==============================] - 7s 71ms/step - loss: 11.7823 - acc: 0.2690 - val_loss: 11.5669 - val_acc: 0.2824\n",
            "Epoch 25/30\n",
            "100/100 [==============================] - 8s 75ms/step - loss: 11.9516 - acc: 0.2585 - val_loss: 12.2734 - val_acc: 0.2385\n",
            "Epoch 26/30\n",
            "100/100 [==============================] - 8s 76ms/step - loss: 11.7904 - acc: 0.2685 - val_loss: 11.8298 - val_acc: 0.2661\n",
            "Epoch 27/30\n",
            "100/100 [==============================] - 7s 74ms/step - loss: 11.9193 - acc: 0.2605 - val_loss: 11.8146 - val_acc: 0.2670\n",
            "Epoch 28/30\n",
            "100/100 [==============================] - 8s 75ms/step - loss: 11.6776 - acc: 0.2755 - val_loss: 12.1091 - val_acc: 0.2487\n",
            "Epoch 29/30\n",
            "100/100 [==============================] - 7s 75ms/step - loss: 12.1530 - acc: 0.2460 - val_loss: 11.6655 - val_acc: 0.2762\n",
            "Epoch 30/30\n",
            "100/100 [==============================] - 7s 73ms/step - loss: 11.8899 - acc: 0.2623 - val_loss: 12.0762 - val_acc: 0.2508\n"
          ],
          "name": "stdout"
        }
      ]
    },
    {
      "cell_type": "code",
      "metadata": {
        "id": "6KVmEwG-q7cD",
        "colab_type": "code",
        "colab": {}
      },
      "source": [
        "model.save('tomato_2')"
      ],
      "execution_count": 0,
      "outputs": []
    },
    {
      "cell_type": "code",
      "metadata": {
        "id": "t4g4eVQsTCUH",
        "colab_type": "code",
        "colab": {}
      },
      "source": [
        "import matplotlib.pyplot as plt\n"
      ],
      "execution_count": 0,
      "outputs": []
    },
    {
      "cell_type": "code",
      "metadata": {
        "id": "TYO6aJROV9RG",
        "colab_type": "code",
        "colab": {}
      },
      "source": [
        "acc = history.history['acc'] \n",
        "val_acc = history.history['val_acc'] \n",
        "loss = history.history['loss'] \n",
        "val_loss = history.history['val_loss']\n"
      ],
      "execution_count": 0,
      "outputs": []
    },
    {
      "cell_type": "code",
      "metadata": {
        "id": "kRAIm6ilWXIo",
        "colab_type": "code",
        "colab": {}
      },
      "source": [
        "epochs = range(1, len(acc) + 1)\n"
      ],
      "execution_count": 0,
      "outputs": []
    },
    {
      "cell_type": "code",
      "metadata": {
        "id": "XtDFUquhY_md",
        "colab_type": "code",
        "outputId": "b5ae51d0-582d-434b-90e7-a40a05c6b5f7",
        "colab": {
          "base_uri": "https://localhost:8080/",
          "height": 545
        }
      },
      "source": [
        "plt.plot(epochs, acc, 'bo', label='Training acc')\n",
        "plt.plot(epochs, val_acc, 'b', label='Validation acc') \n",
        "plt.title('Training and validation accuracy') \n",
        "plt.legend()\n",
        "plt.figure()\n",
        "plt.plot(epochs, loss, 'bo', label='Training loss') \n",
        "plt.plot(epochs, val_loss, 'b', label='Validation loss') \n",
        "plt.title('Training and validation loss') \n",
        "plt.legend()\n",
        "plt.show()"
      ],
      "execution_count": 64,
      "outputs": [
        {
          "output_type": "display_data",
          "data": {
            "image/png": "[encoded data removed]",
            "text/plain": [
              "<Figure size 432x288 with 1 Axes>"
            ]
          },
          "metadata": {
            "tags": []
          }
        },
        {
          "output_type": "display_data",
          "data": {
            "image/png": "[encoded data removed]",
            "text/plain": [
              "<Figure size 432x288 with 1 Axes>"
            ]
          },
          "metadata": {
            "tags": []
          }
        }
      ]
    },
    {
      "cell_type": "code",
      "metadata": {
        "id": "dD2BmeKYZUdh",
        "colab_type": "code",
        "colab": {}
      },
      "source": [
        ""
      ],
      "execution_count": 0,
      "outputs": []
    }
  ]
}